{
 "cells": [
  {
   "cell_type": "markdown",
   "id": "17535650",
   "metadata": {},
   "source": [
    "# Python Error Bar\n",
    "\n",
    "\n"
   ]
  },
  {
   "cell_type": "code",
   "execution_count": 1,
   "id": "7ad6444d",
   "metadata": {},
   "outputs": [
    {
     "data": {
      "image/png": "[encoded data removed]",
      "text/plain": [
       "<Figure size 432x288 with 1 Axes>"
      ]
     },
     "metadata": {
      "needs_background": "light"
     },
     "output_type": "display_data"
    }
   ],
   "source": [
    "#Some values are not one hundred percent accurate, and they contain some errors like the values of resistors. The resistor values have tolerance or error like 10%. That means the value is not exact, but it can change in the 10% range.\n",
    "#Error bars in Python are used to plot errors along with data points in a plot to show the error present in a value. To plot data with error bars in Python, we can use the errorbar() function of the Matplotlib.\n",
    "#For example, let’s plot some random data and add error bars to each value. See the code below.\n",
    "\n",
    "import matplotlib.pyplot as plt\n",
    "\n",
    "x_values = [1,2,3,4]\n",
    "y_values = [1,2,3,4]\n",
    "y_error = [0.9,0.5,0.75,0.25]\n",
    "\n",
    "plt.errorbar(x_values, y_values,  yerr=y_error)\n",
    "plt.show()"
   ]
  },
  {
   "cell_type": "code",
   "execution_count": 2,
   "id": "3c895c05",
   "metadata": {},
   "outputs": [],
   "source": [
    "#In this example, we only added errors on the y-axis, but we can also add errors to the x-axis. The bars in the above output are vertical, but in case of x-axis error, the bars will be horizontal.\n",
    "\n",
    "#The length of each bar depends on the value of the error specified with it. The size of the error vectors should be the same as the data vectors.\n",
    "\n",
    "#The errorbar() function has an argument fmt that can set the properties of the line used in the plot like the line style, color, and marker symbol."
   ]
  },
  {
   "cell_type": "markdown",
   "id": "1f463574",
   "metadata": {},
   "source": [
    "# What are Error Bars in Python?\n",
    "In data science studies, displaying error bars in your visualizations is inevitable and is much needed.\n",
    "\n",
    "Error bars turn out to be very useful for the problem solvers in order to observe the level of confidence in the values obtained as output. Bar charts without error bars give the illusion that a measured or calculated value is known to have high precision or high confidence."
   ]
  },
  {
   "cell_type": "markdown",
   "id": "f3c7a5f3",
   "metadata": {},
   "source": [
    "# Calculate Error for Error bars\n",
    "In order to get errors for errorbars, we require the mean and the standard deviation which can be computed with the help of the mean and the std the function of numpy array.\n",
    "\n",
    "The code for the same is displayed below. We will also be preparing this data for plotting by creating a few variables:\n",
    "\n",
    "List of lables\n",
    "List containing mean of each category\n",
    "List containing standard deviation of each category"
   ]
  },
  {
   "cell_type": "code",
   "execution_count": null,
   "id": "529189a7",
   "metadata": {},
   "outputs": [],
   "source": []
  }
 ],
 "metadata": {
  "kernelspec": {
   "display_name": "Python 3 (ipykernel)",
   "language": "python",
   "name": "python3"
  },
  "language_info": {
   "codemirror_mode": {
    "name": "ipython",
    "version": 3
   },
   "file_extension": ".py",
   "mimetype": "text/x-python",
   "name": "python",
   "nbconvert_exporter": "python",
   "pygments_lexer": "ipython3",
   "version": "3.9.12"
  }
 },
 "nbformat": 4,
 "nbformat_minor": 5
}
