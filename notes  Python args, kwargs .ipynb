{
 "cells": [
  {
   "cell_type": "markdown",
   "id": "bd322b65",
   "metadata": {},
   "source": [
    "# # note and examples"
   ]
  },
  {
   "cell_type": "code",
   "execution_count": 1,
   "id": "b10633b8",
   "metadata": {},
   "outputs": [
    {
     "name": "stdout",
     "output_type": "stream",
     "text": [
      "0\n"
     ]
    }
   ],
   "source": [
    "#args\n",
    "def my_sum(a, b, *args, option=True):\n",
    "    result = 0\n",
    "    if option:\n",
    "        for x in args:\n",
    "            result += x\n",
    "        return a+b+result\n",
    "    else:\n",
    "        return result\n",
    "print(my_sum(1,2,3,4,5 ,option=False))"
   ]
  },
  {
   "cell_type": "code",
   "execution_count": 2,
   "id": "87430af4",
   "metadata": {},
   "outputs": [
    {
     "name": "stdout",
     "output_type": "stream",
     "text": [
      "Amrisawesomesubscrible!\n"
     ]
    }
   ],
   "source": [
    "#kwargs such dictionary same using\n",
    "#مفيد انو لو في مدرسة مش طالبة عندنا نفس الحااجات\n",
    "def make_sentence(**kwargs):\n",
    "    result = \"\"\n",
    "    for x in kwargs.values():\n",
    "        result +=x\n",
    "    return result\n",
    "print(make_sentence(a=\"Amr\",b=\"is\",c=\"awesome\",d=\"subscrible\",e=\"!\"))"
   ]
  },
  {
   "cell_type": "code",
   "execution_count": 3,
   "id": "e6bbfca5",
   "metadata": {},
   "outputs": [
    {
     "name": "stdout",
     "output_type": "stream",
     "text": [
      "name:amr\n",
      "job:developer\n",
      "age:21\n",
      "-------------------------------------\n",
      "name:Bahaa\n",
      "job:engineer\n"
     ]
    }
   ],
   "source": [
    "#exmple 2\n",
    "#kwargs\n",
    "def human_details(**kwargs):\n",
    "    for key, value in kwargs.items():\n",
    "        print(f\"{key}:{value}\")\n",
    "human_details(name='amr', job='developer',age='21')\n",
    "print(\"-------------------------------------\")\n",
    "human_details(name=\"Bahaa\", job= \"engineer\")"
   ]
  },
  {
   "cell_type": "code",
   "execution_count": 4,
   "id": "c896fff2",
   "metadata": {},
   "outputs": [
    {
     "name": "stdout",
     "output_type": "stream",
     "text": [
      "1 2\n",
      "('3 is args', '4 is args', '5 is also args')\n",
      "False\n",
      "{'channel': 'Sonic', 'action': 'Subscribe'}\n"
     ]
    }
   ],
   "source": [
    "# arg , kwargs\n",
    "#arg before ,kwargs\n",
    "def print_args(x,y, *arges , option=True, **kwargs):\n",
    "    print(x,y)\n",
    "    print(arges)\n",
    "    print(option)\n",
    "    print(kwargs)\n",
    "print_args(1,2,\"3 is args\", \"4 is args\", \"5 is also args\", option=False,channel=\"Sonic\",action=\"Subscribe\")\n",
    "\n",
    "\n"
   ]
  },
  {
   "cell_type": "code",
   "execution_count": null,
   "id": "0aaaaefc",
   "metadata": {},
   "outputs": [],
   "source": []
  }
 ],
 "metadata": {
  "kernelspec": {
   "display_name": "Python 3 (ipykernel)",
   "language": "python",
   "name": "python3"
  },
  "language_info": {
   "codemirror_mode": {
    "name": "ipython",
    "version": 3
   },
   "file_extension": ".py",
   "mimetype": "text/x-python",
   "name": "python",
   "nbconvert_exporter": "python",
   "pygments_lexer": "ipython3",
   "version": "3.9.12"
  }
 },
 "nbformat": 4,
 "nbformat_minor": 5
}
