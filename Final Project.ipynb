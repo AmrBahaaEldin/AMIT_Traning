{
 "cells": [
  {
   "cell_type": "code",
   "execution_count": 1,
   "id": "899b666a",
   "metadata": {},
   "outputs": [],
   "source": [
    "#Importing the required Libraries\n",
    "\n",
    "import pandas as pd   \n",
    "#Import Pandas to deal with DataFrames \n",
    "\n",
    "import numpy as np      \n",
    "#Import Numpy to deal with mathematical Data\n",
    "\n",
    "import seaborn as sns   \n",
    "\n",
    "#import Seaborn to creat charts of Data\n",
    "\n",
    "import matplotlib.pyplot as plt\n",
    "%matplotlib inline     \n",
    "#So that charts appear under lines"
   ]
  },
  {
   "cell_type": "code",
   "execution_count": 2,
   "id": "4a1b859b",
   "metadata": {},
   "outputs": [],
   "source": [
    "df = pd.read_csv('Predict Price of Airline Tickets.csv') #to read csv file by pandas library "
   ]
  },
  {
   "cell_type": "code",
   "execution_count": 3,
   "id": "43fc09fd",
   "metadata": {},
   "outputs": [
    {
     "data": {
      "text/html": [
       "<div>\n",
       "<style scoped>\n",
       "    .dataframe tbody tr th:only-of-type {\n",
       "        vertical-align: middle;\n",
       "    }\n",
       "\n",
       "    .dataframe tbody tr th {\n",
       "        vertical-align: top;\n",
       "    }\n",
       "\n",
       "    .dataframe thead th {\n",
       "        text-align: right;\n",
       "    }\n",
       "</style>\n",
       "<table border=\"1\" class=\"dataframe\">\n",
       "  <thead>\n",
       "    <tr style=\"text-align: right;\">\n",
       "      <th></th>\n",
       "      <th>Airline</th>\n",
       "      <th>Date_of_Journey</th>\n",
       "      <th>Source</th>\n",
       "      <th>Destination</th>\n",
       "      <th>Route</th>\n",
       "      <th>Dep_Time</th>\n",
       "      <th>Arrival_Time</th>\n",
       "      <th>Duration</th>\n",
       "      <th>Total_Stops</th>\n",
       "      <th>Additional_Info</th>\n",
       "      <th>Price</th>\n",
       "    </tr>\n",
       "  </thead>\n",
       "  <tbody>\n",
       "    <tr>\n",
       "      <th>0</th>\n",
       "      <td>IndiGo</td>\n",
       "      <td>24/03/2019</td>\n",
       "      <td>Banglore</td>\n",
       "      <td>New Delhi</td>\n",
       "      <td>BLR ? DEL</td>\n",
       "      <td>22:20</td>\n",
       "      <td>1:10</td>\n",
       "      <td>2h 50m</td>\n",
       "      <td>non-stop</td>\n",
       "      <td>No info</td>\n",
       "      <td>3897</td>\n",
       "    </tr>\n",
       "    <tr>\n",
       "      <th>1</th>\n",
       "      <td>Air India</td>\n",
       "      <td>1/5/2019</td>\n",
       "      <td>Kolkata</td>\n",
       "      <td>Banglore</td>\n",
       "      <td>CCU ? IXR ? BBI ? BLR</td>\n",
       "      <td>5:50</td>\n",
       "      <td>13:15</td>\n",
       "      <td>7h 25m</td>\n",
       "      <td>2 stops</td>\n",
       "      <td>No info</td>\n",
       "      <td>7662</td>\n",
       "    </tr>\n",
       "    <tr>\n",
       "      <th>2</th>\n",
       "      <td>Jet Airways</td>\n",
       "      <td>9/6/2019</td>\n",
       "      <td>Delhi</td>\n",
       "      <td>Cochin</td>\n",
       "      <td>DEL ? LKO ? BOM ? COK</td>\n",
       "      <td>9:25</td>\n",
       "      <td>4:25</td>\n",
       "      <td>19h</td>\n",
       "      <td>2 stops</td>\n",
       "      <td>No info</td>\n",
       "      <td>13882</td>\n",
       "    </tr>\n",
       "    <tr>\n",
       "      <th>3</th>\n",
       "      <td>IndiGo</td>\n",
       "      <td>12/5/2019</td>\n",
       "      <td>Kolkata</td>\n",
       "      <td>Banglore</td>\n",
       "      <td>CCU ? NAG ? BLR</td>\n",
       "      <td>18:05</td>\n",
       "      <td>23:30</td>\n",
       "      <td>5h 25m</td>\n",
       "      <td>1 stop</td>\n",
       "      <td>No info</td>\n",
       "      <td>6218</td>\n",
       "    </tr>\n",
       "    <tr>\n",
       "      <th>4</th>\n",
       "      <td>IndiGo</td>\n",
       "      <td>1/3/2019</td>\n",
       "      <td>Banglore</td>\n",
       "      <td>New Delhi</td>\n",
       "      <td>BLR ? NAG ? DEL</td>\n",
       "      <td>16:50</td>\n",
       "      <td>21:35</td>\n",
       "      <td>4h 45m</td>\n",
       "      <td>1 stop</td>\n",
       "      <td>No info</td>\n",
       "      <td>13302</td>\n",
       "    </tr>\n",
       "    <tr>\n",
       "      <th>5</th>\n",
       "      <td>SpiceJet</td>\n",
       "      <td>24/06/2019</td>\n",
       "      <td>Kolkata</td>\n",
       "      <td>Banglore</td>\n",
       "      <td>CCU ? BLR</td>\n",
       "      <td>9:00</td>\n",
       "      <td>11:25</td>\n",
       "      <td>2h 25m</td>\n",
       "      <td>non-stop</td>\n",
       "      <td>No info</td>\n",
       "      <td>3873</td>\n",
       "    </tr>\n",
       "    <tr>\n",
       "      <th>6</th>\n",
       "      <td>Jet Airways</td>\n",
       "      <td>12/3/2019</td>\n",
       "      <td>Banglore</td>\n",
       "      <td>New Delhi</td>\n",
       "      <td>BLR ? BOM ? DEL</td>\n",
       "      <td>18:55</td>\n",
       "      <td>10:25</td>\n",
       "      <td>15h 30m</td>\n",
       "      <td>1 stop</td>\n",
       "      <td>In-flight meal not included</td>\n",
       "      <td>11087</td>\n",
       "    </tr>\n",
       "    <tr>\n",
       "      <th>7</th>\n",
       "      <td>Jet Airways</td>\n",
       "      <td>1/3/2019</td>\n",
       "      <td>Banglore</td>\n",
       "      <td>New Delhi</td>\n",
       "      <td>BLR ? BOM ? DEL</td>\n",
       "      <td>8:00</td>\n",
       "      <td>5:05</td>\n",
       "      <td>21h 5m</td>\n",
       "      <td>1 stop</td>\n",
       "      <td>No info</td>\n",
       "      <td>22270</td>\n",
       "    </tr>\n",
       "    <tr>\n",
       "      <th>8</th>\n",
       "      <td>Jet Airways</td>\n",
       "      <td>12/3/2019</td>\n",
       "      <td>Banglore</td>\n",
       "      <td>New Delhi</td>\n",
       "      <td>BLR ? BOM ? DEL</td>\n",
       "      <td>8:55</td>\n",
       "      <td>10:25</td>\n",
       "      <td>25h 30m</td>\n",
       "      <td>1 stop</td>\n",
       "      <td>In-flight meal not included</td>\n",
       "      <td>11087</td>\n",
       "    </tr>\n",
       "    <tr>\n",
       "      <th>9</th>\n",
       "      <td>Multiple carriers</td>\n",
       "      <td>27/05/2019</td>\n",
       "      <td>Delhi</td>\n",
       "      <td>Cochin</td>\n",
       "      <td>DEL ? BOM ? COK</td>\n",
       "      <td>11:25</td>\n",
       "      <td>19:15</td>\n",
       "      <td>7h 50m</td>\n",
       "      <td>1 stop</td>\n",
       "      <td>No info</td>\n",
       "      <td>8625</td>\n",
       "    </tr>\n",
       "  </tbody>\n",
       "</table>\n",
       "</div>"
      ],
      "text/plain": [
       "             Airline Date_of_Journey    Source Destination  \\\n",
       "0             IndiGo      24/03/2019  Banglore   New Delhi   \n",
       "1          Air India        1/5/2019   Kolkata    Banglore   \n",
       "2        Jet Airways        9/6/2019     Delhi      Cochin   \n",
       "3             IndiGo       12/5/2019   Kolkata    Banglore   \n",
       "4             IndiGo        1/3/2019  Banglore   New Delhi   \n",
       "5           SpiceJet      24/06/2019   Kolkata    Banglore   \n",
       "6        Jet Airways       12/3/2019  Banglore   New Delhi   \n",
       "7        Jet Airways        1/3/2019  Banglore   New Delhi   \n",
       "8        Jet Airways       12/3/2019  Banglore   New Delhi   \n",
       "9  Multiple carriers      27/05/2019     Delhi      Cochin   \n",
       "\n",
       "                   Route Dep_Time Arrival_Time Duration Total_Stops  \\\n",
       "0              BLR ? DEL    22:20         1:10   2h 50m    non-stop   \n",
       "1  CCU ? IXR ? BBI ? BLR     5:50        13:15   7h 25m     2 stops   \n",
       "2  DEL ? LKO ? BOM ? COK     9:25         4:25      19h     2 stops   \n",
       "3        CCU ? NAG ? BLR    18:05        23:30   5h 25m      1 stop   \n",
       "4        BLR ? NAG ? DEL    16:50        21:35   4h 45m      1 stop   \n",
       "5              CCU ? BLR     9:00        11:25   2h 25m    non-stop   \n",
       "6        BLR ? BOM ? DEL    18:55        10:25  15h 30m      1 stop   \n",
       "7        BLR ? BOM ? DEL     8:00         5:05   21h 5m      1 stop   \n",
       "8        BLR ? BOM ? DEL     8:55        10:25  25h 30m      1 stop   \n",
       "9        DEL ? BOM ? COK    11:25        19:15   7h 50m      1 stop   \n",
       "\n",
       "               Additional_Info  Price  \n",
       "0                      No info   3897  \n",
       "1                      No info   7662  \n",
       "2                      No info  13882  \n",
       "3                      No info   6218  \n",
       "4                      No info  13302  \n",
       "5                      No info   3873  \n",
       "6  In-flight meal not included  11087  \n",
       "7                      No info  22270  \n",
       "8  In-flight meal not included  11087  \n",
       "9                      No info   8625  "
      ]
     },
     "execution_count": 3,
     "metadata": {},
     "output_type": "execute_result"
    }
   ],
   "source": [
    "df.head(10) #to get some first rows"
   ]
  },
  {
   "cell_type": "code",
   "execution_count": 4,
   "id": "a6f0d113",
   "metadata": {},
   "outputs": [
    {
     "data": {
      "text/plain": [
       "Index(['Airline', 'Date_of_Journey', 'Source', 'Destination', 'Route',\n",
       "       'Dep_Time', 'Arrival_Time', 'Duration', 'Total_Stops',\n",
       "       'Additional_Info', 'Price'],\n",
       "      dtype='object')"
      ]
     },
     "execution_count": 4,
     "metadata": {},
     "output_type": "execute_result"
    }
   ],
   "source": [
    "df.columns  #to show all columns in data frame "
   ]
  },
  {
   "cell_type": "code",
   "execution_count": 5,
   "id": "3b2545f4",
   "metadata": {},
   "outputs": [
    {
     "name": "stdout",
     "output_type": "stream",
     "text": [
      "<class 'pandas.core.frame.DataFrame'>\n",
      "RangeIndex: 10683 entries, 0 to 10682\n",
      "Data columns (total 11 columns):\n",
      " #   Column           Non-Null Count  Dtype \n",
      "---  ------           --------------  ----- \n",
      " 0   Airline          10683 non-null  object\n",
      " 1   Date_of_Journey  10683 non-null  object\n",
      " 2   Source           10683 non-null  object\n",
      " 3   Destination      10683 non-null  object\n",
      " 4   Route            10682 non-null  object\n",
      " 5   Dep_Time         10683 non-null  object\n",
      " 6   Arrival_Time     10683 non-null  object\n",
      " 7   Duration         10683 non-null  object\n",
      " 8   Total_Stops      10682 non-null  object\n",
      " 9   Additional_Info  10683 non-null  object\n",
      " 10  Price            10683 non-null  int64 \n",
      "dtypes: int64(1), object(10)\n",
      "memory usage: 918.2+ KB\n"
     ]
    }
   ],
   "source": [
    "df.info()"
   ]
  },
  {
   "cell_type": "code",
   "execution_count": 6,
   "id": "782ac38e",
   "metadata": {},
   "outputs": [
    {
     "data": {
      "text/plain": [
       "Airline            0\n",
       "Date_of_Journey    0\n",
       "Source             0\n",
       "Destination        0\n",
       "Route              1\n",
       "Dep_Time           0\n",
       "Arrival_Time       0\n",
       "Duration           0\n",
       "Total_Stops        1\n",
       "Additional_Info    0\n",
       "Price              0\n",
       "dtype: int64"
      ]
     },
     "execution_count": 6,
     "metadata": {},
     "output_type": "execute_result"
    }
   ],
   "source": [
    "df.isna().sum() #to get the sum of all null cells for every column"
   ]
  },
  {
   "cell_type": "code",
   "execution_count": 7,
   "id": "f0774479",
   "metadata": {},
   "outputs": [],
   "source": [
    "df.dropna(inplace=True)  #to drop or delete the null celss"
   ]
  },
  {
   "cell_type": "code",
   "execution_count": 8,
   "id": "0641c389",
   "metadata": {},
   "outputs": [
    {
     "data": {
      "text/plain": [
       "Airline            0\n",
       "Date_of_Journey    0\n",
       "Source             0\n",
       "Destination        0\n",
       "Route              0\n",
       "Dep_Time           0\n",
       "Arrival_Time       0\n",
       "Duration           0\n",
       "Total_Stops        0\n",
       "Additional_Info    0\n",
       "Price              0\n",
       "dtype: int64"
      ]
     },
     "execution_count": 8,
     "metadata": {},
     "output_type": "execute_result"
    }
   ],
   "source": [
    "df.isna().sum()  #to get the sum of all null cells for every column"
   ]
  },
  {
   "cell_type": "code",
   "execution_count": 9,
   "id": "2c50033f",
   "metadata": {},
   "outputs": [
    {
     "data": {
      "text/html": [
       "<div>\n",
       "<style scoped>\n",
       "    .dataframe tbody tr th:only-of-type {\n",
       "        vertical-align: middle;\n",
       "    }\n",
       "\n",
       "    .dataframe tbody tr th {\n",
       "        vertical-align: top;\n",
       "    }\n",
       "\n",
       "    .dataframe thead th {\n",
       "        text-align: right;\n",
       "    }\n",
       "</style>\n",
       "<table border=\"1\" class=\"dataframe\">\n",
       "  <thead>\n",
       "    <tr style=\"text-align: right;\">\n",
       "      <th></th>\n",
       "      <th>count</th>\n",
       "      <th>mean</th>\n",
       "      <th>std</th>\n",
       "      <th>min</th>\n",
       "      <th>25%</th>\n",
       "      <th>50%</th>\n",
       "      <th>75%</th>\n",
       "      <th>max</th>\n",
       "    </tr>\n",
       "  </thead>\n",
       "  <tbody>\n",
       "    <tr>\n",
       "      <th>Price</th>\n",
       "      <td>10682.0</td>\n",
       "      <td>9087.214567</td>\n",
       "      <td>4611.54881</td>\n",
       "      <td>1759.0</td>\n",
       "      <td>5277.0</td>\n",
       "      <td>8372.0</td>\n",
       "      <td>12373.0</td>\n",
       "      <td>79512.0</td>\n",
       "    </tr>\n",
       "  </tbody>\n",
       "</table>\n",
       "</div>"
      ],
      "text/plain": [
       "         count         mean         std     min     25%     50%      75%  \\\n",
       "Price  10682.0  9087.214567  4611.54881  1759.0  5277.0  8372.0  12373.0   \n",
       "\n",
       "           max  \n",
       "Price  79512.0  "
      ]
     },
     "execution_count": 9,
     "metadata": {},
     "output_type": "execute_result"
    }
   ],
   "source": [
    "df.describe().T #DESCRIBE THE DATA FRAME TO GET COUNT &MEAN &STD &MIN "
   ]
  },
  {
   "cell_type": "code",
   "execution_count": 10,
   "id": "28a8ee16",
   "metadata": {},
   "outputs": [
    {
     "data": {
      "text/plain": [
       "Airline            object\n",
       "Date_of_Journey    object\n",
       "Source             object\n",
       "Destination        object\n",
       "Route              object\n",
       "Dep_Time           object\n",
       "Arrival_Time       object\n",
       "Duration           object\n",
       "Total_Stops        object\n",
       "Additional_Info    object\n",
       "Price               int64\n",
       "dtype: object"
      ]
     },
     "execution_count": 10,
     "metadata": {},
     "output_type": "execute_result"
    }
   ],
   "source": [
    "df.dtypes #to get data types of all columns\n",
    "# datatypes"
   ]
  },
  {
   "cell_type": "code",
   "execution_count": 11,
   "id": "e455605b",
   "metadata": {},
   "outputs": [
    {
     "data": {
      "text/html": [
       "<div>\n",
       "<style scoped>\n",
       "    .dataframe tbody tr th:only-of-type {\n",
       "        vertical-align: middle;\n",
       "    }\n",
       "\n",
       "    .dataframe tbody tr th {\n",
       "        vertical-align: top;\n",
       "    }\n",
       "\n",
       "    .dataframe thead th {\n",
       "        text-align: right;\n",
       "    }\n",
       "</style>\n",
       "<table border=\"1\" class=\"dataframe\">\n",
       "  <thead>\n",
       "    <tr style=\"text-align: right;\">\n",
       "      <th></th>\n",
       "      <th>Airline</th>\n",
       "      <th>Date_of_Journey</th>\n",
       "      <th>Source</th>\n",
       "      <th>Destination</th>\n",
       "      <th>Route</th>\n",
       "      <th>Dep_Time</th>\n",
       "      <th>Arrival_Time</th>\n",
       "      <th>Duration</th>\n",
       "      <th>Total_Stops</th>\n",
       "      <th>Additional_Info</th>\n",
       "      <th>Price</th>\n",
       "    </tr>\n",
       "  </thead>\n",
       "  <tbody>\n",
       "    <tr>\n",
       "      <th>683</th>\n",
       "      <td>Jet Airways</td>\n",
       "      <td>1/6/2019</td>\n",
       "      <td>Delhi</td>\n",
       "      <td>Cochin</td>\n",
       "      <td>DEL ? NAG ? BOM ? COK</td>\n",
       "      <td>14:35</td>\n",
       "      <td>4:25</td>\n",
       "      <td>13h 50m</td>\n",
       "      <td>2 stops</td>\n",
       "      <td>No info</td>\n",
       "      <td>13376</td>\n",
       "    </tr>\n",
       "    <tr>\n",
       "      <th>1061</th>\n",
       "      <td>Air India</td>\n",
       "      <td>21/05/2019</td>\n",
       "      <td>Delhi</td>\n",
       "      <td>Cochin</td>\n",
       "      <td>DEL ? GOI ? BOM ? COK</td>\n",
       "      <td>22:00</td>\n",
       "      <td>19:15</td>\n",
       "      <td>21h 15m</td>\n",
       "      <td>2 stops</td>\n",
       "      <td>No info</td>\n",
       "      <td>10231</td>\n",
       "    </tr>\n",
       "    <tr>\n",
       "      <th>1348</th>\n",
       "      <td>Air India</td>\n",
       "      <td>18/05/2019</td>\n",
       "      <td>Delhi</td>\n",
       "      <td>Cochin</td>\n",
       "      <td>DEL ? HYD ? BOM ? COK</td>\n",
       "      <td>17:15</td>\n",
       "      <td>19:15</td>\n",
       "      <td>26h</td>\n",
       "      <td>2 stops</td>\n",
       "      <td>No info</td>\n",
       "      <td>12392</td>\n",
       "    </tr>\n",
       "    <tr>\n",
       "      <th>1418</th>\n",
       "      <td>Jet Airways</td>\n",
       "      <td>6/6/2019</td>\n",
       "      <td>Delhi</td>\n",
       "      <td>Cochin</td>\n",
       "      <td>DEL ? JAI ? BOM ? COK</td>\n",
       "      <td>5:30</td>\n",
       "      <td>4:25</td>\n",
       "      <td>22h 55m</td>\n",
       "      <td>2 stops</td>\n",
       "      <td>In-flight meal not included</td>\n",
       "      <td>10368</td>\n",
       "    </tr>\n",
       "    <tr>\n",
       "      <th>1674</th>\n",
       "      <td>IndiGo</td>\n",
       "      <td>24/03/2019</td>\n",
       "      <td>Banglore</td>\n",
       "      <td>New Delhi</td>\n",
       "      <td>BLR ? DEL</td>\n",
       "      <td>18:25</td>\n",
       "      <td>21:20</td>\n",
       "      <td>2h 55m</td>\n",
       "      <td>non-stop</td>\n",
       "      <td>No info</td>\n",
       "      <td>7303</td>\n",
       "    </tr>\n",
       "    <tr>\n",
       "      <th>...</th>\n",
       "      <td>...</td>\n",
       "      <td>...</td>\n",
       "      <td>...</td>\n",
       "      <td>...</td>\n",
       "      <td>...</td>\n",
       "      <td>...</td>\n",
       "      <td>...</td>\n",
       "      <td>...</td>\n",
       "      <td>...</td>\n",
       "      <td>...</td>\n",
       "      <td>...</td>\n",
       "    </tr>\n",
       "    <tr>\n",
       "      <th>10594</th>\n",
       "      <td>Jet Airways</td>\n",
       "      <td>27/06/2019</td>\n",
       "      <td>Delhi</td>\n",
       "      <td>Cochin</td>\n",
       "      <td>DEL ? AMD ? BOM ? COK</td>\n",
       "      <td>23:05</td>\n",
       "      <td>12:35</td>\n",
       "      <td>13h 30m</td>\n",
       "      <td>2 stops</td>\n",
       "      <td>No info</td>\n",
       "      <td>12819</td>\n",
       "    </tr>\n",
       "    <tr>\n",
       "      <th>10616</th>\n",
       "      <td>Jet Airways</td>\n",
       "      <td>1/6/2019</td>\n",
       "      <td>Delhi</td>\n",
       "      <td>Cochin</td>\n",
       "      <td>DEL ? JAI ? BOM ? COK</td>\n",
       "      <td>9:40</td>\n",
       "      <td>12:35</td>\n",
       "      <td>26h 55m</td>\n",
       "      <td>2 stops</td>\n",
       "      <td>No info</td>\n",
       "      <td>13014</td>\n",
       "    </tr>\n",
       "    <tr>\n",
       "      <th>10634</th>\n",
       "      <td>Jet Airways</td>\n",
       "      <td>6/6/2019</td>\n",
       "      <td>Delhi</td>\n",
       "      <td>Cochin</td>\n",
       "      <td>DEL ? JAI ? BOM ? COK</td>\n",
       "      <td>9:40</td>\n",
       "      <td>12:35</td>\n",
       "      <td>26h 55m</td>\n",
       "      <td>2 stops</td>\n",
       "      <td>In-flight meal not included</td>\n",
       "      <td>11733</td>\n",
       "    </tr>\n",
       "    <tr>\n",
       "      <th>10672</th>\n",
       "      <td>Jet Airways</td>\n",
       "      <td>27/06/2019</td>\n",
       "      <td>Delhi</td>\n",
       "      <td>Cochin</td>\n",
       "      <td>DEL ? AMD ? BOM ? COK</td>\n",
       "      <td>23:05</td>\n",
       "      <td>19:00</td>\n",
       "      <td>19h 55m</td>\n",
       "      <td>2 stops</td>\n",
       "      <td>In-flight meal not included</td>\n",
       "      <td>11150</td>\n",
       "    </tr>\n",
       "    <tr>\n",
       "      <th>10673</th>\n",
       "      <td>Jet Airways</td>\n",
       "      <td>27/05/2019</td>\n",
       "      <td>Delhi</td>\n",
       "      <td>Cochin</td>\n",
       "      <td>DEL ? AMD ? BOM ? COK</td>\n",
       "      <td>13:25</td>\n",
       "      <td>4:25</td>\n",
       "      <td>15h</td>\n",
       "      <td>2 stops</td>\n",
       "      <td>No info</td>\n",
       "      <td>16704</td>\n",
       "    </tr>\n",
       "  </tbody>\n",
       "</table>\n",
       "<p>222 rows × 11 columns</p>\n",
       "</div>"
      ],
      "text/plain": [
       "           Airline Date_of_Journey    Source Destination  \\\n",
       "683    Jet Airways        1/6/2019     Delhi      Cochin   \n",
       "1061     Air India      21/05/2019     Delhi      Cochin   \n",
       "1348     Air India      18/05/2019     Delhi      Cochin   \n",
       "1418   Jet Airways        6/6/2019     Delhi      Cochin   \n",
       "1674        IndiGo      24/03/2019  Banglore   New Delhi   \n",
       "...            ...             ...       ...         ...   \n",
       "10594  Jet Airways      27/06/2019     Delhi      Cochin   \n",
       "10616  Jet Airways        1/6/2019     Delhi      Cochin   \n",
       "10634  Jet Airways        6/6/2019     Delhi      Cochin   \n",
       "10672  Jet Airways      27/06/2019     Delhi      Cochin   \n",
       "10673  Jet Airways      27/05/2019     Delhi      Cochin   \n",
       "\n",
       "                       Route Dep_Time Arrival_Time Duration Total_Stops  \\\n",
       "683    DEL ? NAG ? BOM ? COK    14:35         4:25  13h 50m     2 stops   \n",
       "1061   DEL ? GOI ? BOM ? COK    22:00        19:15  21h 15m     2 stops   \n",
       "1348   DEL ? HYD ? BOM ? COK    17:15        19:15      26h     2 stops   \n",
       "1418   DEL ? JAI ? BOM ? COK     5:30         4:25  22h 55m     2 stops   \n",
       "1674               BLR ? DEL    18:25        21:20   2h 55m    non-stop   \n",
       "...                      ...      ...          ...      ...         ...   \n",
       "10594  DEL ? AMD ? BOM ? COK    23:05        12:35  13h 30m     2 stops   \n",
       "10616  DEL ? JAI ? BOM ? COK     9:40        12:35  26h 55m     2 stops   \n",
       "10634  DEL ? JAI ? BOM ? COK     9:40        12:35  26h 55m     2 stops   \n",
       "10672  DEL ? AMD ? BOM ? COK    23:05        19:00  19h 55m     2 stops   \n",
       "10673  DEL ? AMD ? BOM ? COK    13:25         4:25      15h     2 stops   \n",
       "\n",
       "                   Additional_Info  Price  \n",
       "683                        No info  13376  \n",
       "1061                       No info  10231  \n",
       "1348                       No info  12392  \n",
       "1418   In-flight meal not included  10368  \n",
       "1674                       No info   7303  \n",
       "...                            ...    ...  \n",
       "10594                      No info  12819  \n",
       "10616                      No info  13014  \n",
       "10634  In-flight meal not included  11733  \n",
       "10672  In-flight meal not included  11150  \n",
       "10673                      No info  16704  \n",
       "\n",
       "[222 rows x 11 columns]"
      ]
     },
     "execution_count": 11,
     "metadata": {},
     "output_type": "execute_result"
    }
   ],
   "source": [
    "df[df.duplicated()]\n",
    "# Checking if there are any Duplicate values"
   ]
  },
  {
   "cell_type": "code",
   "execution_count": 12,
   "id": "c196f6b2",
   "metadata": {},
   "outputs": [],
   "source": [
    "# Drop duplicates value\n",
    "df.drop_duplicates(keep='first',inplace=True)"
   ]
  },
  {
   "cell_type": "code",
   "execution_count": 13,
   "id": "036d09df",
   "metadata": {},
   "outputs": [
    {
     "data": {
      "text/plain": [
       "No info                         8180\n",
       "In-flight meal not included     1926\n",
       "No check-in baggage included     318\n",
       "1 Long layover                    19\n",
       "Change airports                    7\n",
       "Business class                     4\n",
       "No Info                            3\n",
       "1 Short layover                    1\n",
       "Red-eye flight                     1\n",
       "2 Long layover                     1\n",
       "Name: Additional_Info, dtype: int64"
      ]
     },
     "execution_count": 13,
     "metadata": {},
     "output_type": "execute_result"
    }
   ],
   "source": [
    "df[\"Additional_Info\"].value_counts()"
   ]
  },
  {
   "cell_type": "code",
   "execution_count": 14,
   "id": "adb39cba",
   "metadata": {},
   "outputs": [],
   "source": [
    "df['Additional_Info'].replace({\"No info\": 'No Info'}, inplace = True)\n",
    "#concatonate no info and  Info"
   ]
  },
  {
   "cell_type": "code",
   "execution_count": 15,
   "id": "d5342749",
   "metadata": {},
   "outputs": [
    {
     "data": {
      "text/plain": [
       "No Info                         8183\n",
       "In-flight meal not included     1926\n",
       "No check-in baggage included     318\n",
       "1 Long layover                    19\n",
       "Change airports                    7\n",
       "Business class                     4\n",
       "1 Short layover                    1\n",
       "Red-eye flight                     1\n",
       "2 Long layover                     1\n",
       "Name: Additional_Info, dtype: int64"
      ]
     },
     "execution_count": 15,
     "metadata": {},
     "output_type": "execute_result"
    }
   ],
   "source": [
    "df[\"Additional_Info\"].value_counts()"
   ]
  },
  {
   "cell_type": "markdown",
   "id": "6ccbfa98",
   "metadata": {},
   "source": [
    "# Check Outlires"
   ]
  },
  {
   "cell_type": "code",
   "execution_count": 16,
   "id": "f8b5dc00",
   "metadata": {},
   "outputs": [
    {
     "data": {
      "text/plain": [
       "<AxesSubplot:xlabel='Price'>"
      ]
     },
     "execution_count": 16,
     "metadata": {},
     "output_type": "execute_result"
    },
    {
     "data": {
      "image/png": "[encoded data removed]",
      "text/plain": [
       "<Figure size 1296x360 with 1 Axes>"
      ]
     },
     "metadata": {
      "needs_background": "light"
     },
     "output_type": "display_data"
    }
   ],
   "source": [
    "#to draw boxplot chart to check the outliers in the data \n",
    "\n",
    "plt.figure(figsize = (18,5))  #size of chart\n",
    "\n",
    "sns.boxplot(x = 'Price', data = df)\n"
   ]
  },
  {
   "cell_type": "code",
   "execution_count": 17,
   "id": "e5238849",
   "metadata": {},
   "outputs": [],
   "source": [
    "# maxmum outliers = 23000 , and over this value this is outliers"
   ]
  },
  {
   "cell_type": "code",
   "execution_count": 18,
   "id": "5ffce5f6",
   "metadata": {},
   "outputs": [
    {
     "data": {
      "text/plain": [
       "<AxesSubplot:xlabel='Price', ylabel='Count'>"
      ]
     },
     "execution_count": 18,
     "metadata": {},
     "output_type": "execute_result"
    },
    {
     "data": {
      "image/png": "[encoded data removed]",
      "text/plain": [
       "<Figure size 1296x360 with 1 Axes>"
      ]
     },
     "metadata": {
      "needs_background": "light"
     },
     "output_type": "display_data"
    }
   ],
   "source": [
    "#to draw histogram chart of price to show the prices\n",
    "\n",
    "plt.figure(figsize = (18,5))\n",
    "\n",
    "sns.histplot(x = 'Price', data = df,bins=20)"
   ]
  },
  {
   "cell_type": "code",
   "execution_count": 19,
   "id": "871e5f7d",
   "metadata": {},
   "outputs": [],
   "source": [
    "# count of price for ticket"
   ]
  },
  {
   "cell_type": "code",
   "execution_count": 20,
   "id": "f5f0cd30",
   "metadata": {},
   "outputs": [
    {
     "data": {
      "image/png": "[encoded data removed]",
      "text/plain": [
       "<Figure size 432x288 with 1 Axes>"
      ]
     },
     "metadata": {
      "needs_background": "light"
     },
     "output_type": "display_data"
    }
   ],
   "source": [
    "sns.boxplot(y = \"Price\", x = \"Source\", data = df.sort_values(\"Price\", ascending = False))\n",
    "plt.show()\n",
    "#relation between price and source to know all data"
   ]
  },
  {
   "cell_type": "code",
   "execution_count": 21,
   "id": "fee24567",
   "metadata": {},
   "outputs": [
    {
     "data": {
      "image/png": "[encoded data removed]",
      "text/plain": [
       "<Figure size 432x288 with 1 Axes>"
      ]
     },
     "metadata": {
      "needs_background": "light"
     },
     "output_type": "display_data"
    }
   ],
   "source": [
    "sns.boxplot(y = \"Price\", x = \"Destination\", data = df.sort_values(\"Price\", ascending = False))\n",
    "plt.show()\n",
    "#relation between price and destination"
   ]
  },
  {
   "cell_type": "code",
   "execution_count": 22,
   "id": "08efaacf",
   "metadata": {},
   "outputs": [
    {
     "data": {
      "text/plain": [
       "Text(0, 0.5, 'Price of ticket')"
      ]
     },
     "execution_count": 22,
     "metadata": {},
     "output_type": "execute_result"
    },
    {
     "data": {
      "image/png": "[encoded data removed]",
      "text/plain": [
       "<Figure size 1080x720 with 1 Axes>"
      ]
     },
     "metadata": {
      "needs_background": "light"
     },
     "output_type": "display_data"
    }
   ],
   "source": [
    "# size of figuer\n",
    "plt.figure(figsize = (15, 10))\n",
    "\n",
    "# graph title is Price VS Airlines\n",
    "plt.title('Price VS Airlines')\n",
    "\n",
    "# type of graph is scatter between two columns (Price , Airlines)\n",
    "plt.scatter(df['Airline'], df['Price'])\n",
    "\n",
    "# routate name of x axis to vertical\n",
    "plt.xticks(rotation = 90)\n",
    "\n",
    "# x axis for airline names\n",
    "plt.xlabel('Airline')\n",
    "\n",
    "# y axis for price of ticket \n",
    "plt.ylabel('Price of ticket')\n",
    "\n",
    "# reltion between price and airline "
   ]
  },
  {
   "cell_type": "code",
   "execution_count": 23,
   "id": "cd3e81ec",
   "metadata": {},
   "outputs": [],
   "source": [
    "# output: the airline effect about price of ticket and mean all airline how much price"
   ]
  },
  {
   "cell_type": "code",
   "execution_count": 24,
   "id": "03dc7c68",
   "metadata": {},
   "outputs": [
    {
     "name": "stderr",
     "output_type": "stream",
     "text": [
      "C:\\Users\\Youssef\\anaconda3\\lib\\site-packages\\seaborn\\_decorators.py:36: FutureWarning: Pass the following variables as keyword args: x, y. From version 0.12, the only valid positional argument will be `data`, and passing other arguments without an explicit keyword will result in an error or misinterpretation.\n",
      "  warnings.warn(\n"
     ]
    },
    {
     "data": {
      "text/plain": [
       "Text(0, 0.5, 'Price of ticket')"
      ]
     },
     "execution_count": 24,
     "metadata": {},
     "output_type": "execute_result"
    },
    {
     "data": {
      "image/png": "[encoded data removed]",
      "text/plain": [
       "<Figure size 1080x720 with 1 Axes>"
      ]
     },
     "metadata": {
      "needs_background": "light"
     },
     "output_type": "display_data"
    }
   ],
   "source": [
    "# size of figuer\n",
    "plt.figure(figsize = (15, 10))\n",
    "\n",
    "# graph title is Price VS Additional Information\n",
    "plt.title('Price VS Additional Information')\n",
    "\n",
    "# type of graph is scatter between two columns (Price , Additional Information)\n",
    "sns.scatterplot(df['Additional_Info'], df['Price'],data=df)\n",
    "\n",
    "# routate name of x axis to vertical\n",
    "plt.xticks(rotation = 90)\n",
    "\n",
    "# x axis for Additional Information names\n",
    "plt.xlabel('Information')\n",
    "\n",
    "# y axis for price of ticket \n",
    "plt.ylabel('Price of ticket')\n",
    "\n",
    "# reltion between price and airline "
   ]
  },
  {
   "cell_type": "code",
   "execution_count": 25,
   "id": "f2fbc5b8",
   "metadata": {},
   "outputs": [],
   "source": [
    "# output: the information effect about price of ticket and mean how information effect in price "
   ]
  },
  {
   "cell_type": "code",
   "execution_count": null,
   "id": "dcbffacd",
   "metadata": {},
   "outputs": [],
   "source": []
  },
  {
   "cell_type": "code",
   "execution_count": 26,
   "id": "04b9b7d9",
   "metadata": {},
   "outputs": [],
   "source": [
    "# to split column the journey day in table to day and mounth\n",
    "\n",
    "df[\"Journey_day\"] = pd.to_datetime(df.Date_of_Journey, format=\"%d/%m/%Y\").dt.day\n",
    "df[\"Journey_month\"] = pd.to_datetime(df[\"Date_of_Journey\"], format = \"%d/%m/%Y\").dt.month\n",
    "\n",
    "# to drop the column date of journey and save to excel sheet\n",
    "df.drop([\"Date_of_Journey\"], axis = 1, inplace = True)"
   ]
  },
  {
   "cell_type": "code",
   "execution_count": 27,
   "id": "9865eaed",
   "metadata": {},
   "outputs": [],
   "source": [
    "# to split column the dep_time in table to hours and min\n",
    "\n",
    "df[\"Dep_hour\"] = pd.to_datetime(df[\"Dep_Time\"]).dt.hour\n",
    "df[\"Dep_min\"] = pd.to_datetime(df[\"Dep_Time\"]).dt.minute\n",
    "\n",
    "# to drop the column dep_time and save to excel sheet\n",
    "df.drop([\"Dep_Time\"], axis = 1, inplace = True)"
   ]
  },
  {
   "cell_type": "code",
   "execution_count": 28,
   "id": "f590c15f",
   "metadata": {},
   "outputs": [],
   "source": [
    "# to split column the Arrival_Time in table to Arrival_hour and Arrival_min\n",
    "\n",
    "df[\"Arrival_hour\"] = pd.to_datetime(df.Arrival_Time).dt.hour\n",
    "df[\"Arrival_min\"] = pd.to_datetime(df.Arrival_Time).dt.minute\n",
    "\n",
    "# to drop the column Arrival_Time and save to excel sheet\n",
    "df.drop([\"Arrival_Time\"], axis = 1, inplace = True)"
   ]
  },
  {
   "cell_type": "code",
   "execution_count": 29,
   "id": "8e1b9b14",
   "metadata": {},
   "outputs": [
    {
     "data": {
      "text/html": [
       "<div>\n",
       "<style scoped>\n",
       "    .dataframe tbody tr th:only-of-type {\n",
       "        vertical-align: middle;\n",
       "    }\n",
       "\n",
       "    .dataframe tbody tr th {\n",
       "        vertical-align: top;\n",
       "    }\n",
       "\n",
       "    .dataframe thead th {\n",
       "        text-align: right;\n",
       "    }\n",
       "</style>\n",
       "<table border=\"1\" class=\"dataframe\">\n",
       "  <thead>\n",
       "    <tr style=\"text-align: right;\">\n",
       "      <th></th>\n",
       "      <th>Airline</th>\n",
       "      <th>Source</th>\n",
       "      <th>Destination</th>\n",
       "      <th>Route</th>\n",
       "      <th>Duration</th>\n",
       "      <th>Total_Stops</th>\n",
       "      <th>Additional_Info</th>\n",
       "      <th>Price</th>\n",
       "      <th>Journey_day</th>\n",
       "      <th>Journey_month</th>\n",
       "      <th>Dep_hour</th>\n",
       "      <th>Dep_min</th>\n",
       "      <th>Arrival_hour</th>\n",
       "      <th>Arrival_min</th>\n",
       "    </tr>\n",
       "  </thead>\n",
       "  <tbody>\n",
       "  </tbody>\n",
       "</table>\n",
       "</div>"
      ],
      "text/plain": [
       "Empty DataFrame\n",
       "Columns: [Airline, Source, Destination, Route, Duration, Total_Stops, Additional_Info, Price, Journey_day, Journey_month, Dep_hour, Dep_min, Arrival_hour, Arrival_min]\n",
       "Index: []"
      ]
     },
     "execution_count": 29,
     "metadata": {},
     "output_type": "execute_result"
    }
   ],
   "source": [
    "df[df.duplicated()]\n",
    "\n",
    "# know the duplicated data"
   ]
  },
  {
   "cell_type": "code",
   "execution_count": 30,
   "id": "d82c14b7",
   "metadata": {},
   "outputs": [
    {
     "data": {
      "text/html": [
       "<div>\n",
       "<style scoped>\n",
       "    .dataframe tbody tr th:only-of-type {\n",
       "        vertical-align: middle;\n",
       "    }\n",
       "\n",
       "    .dataframe tbody tr th {\n",
       "        vertical-align: top;\n",
       "    }\n",
       "\n",
       "    .dataframe thead th {\n",
       "        text-align: right;\n",
       "    }\n",
       "</style>\n",
       "<table border=\"1\" class=\"dataframe\">\n",
       "  <thead>\n",
       "    <tr style=\"text-align: right;\">\n",
       "      <th></th>\n",
       "      <th>Airline</th>\n",
       "      <th>Source</th>\n",
       "      <th>Destination</th>\n",
       "      <th>Route</th>\n",
       "      <th>Duration</th>\n",
       "      <th>Total_Stops</th>\n",
       "      <th>Additional_Info</th>\n",
       "      <th>Price</th>\n",
       "      <th>Journey_day</th>\n",
       "      <th>Journey_month</th>\n",
       "      <th>Dep_hour</th>\n",
       "      <th>Dep_min</th>\n",
       "      <th>Arrival_hour</th>\n",
       "      <th>Arrival_min</th>\n",
       "    </tr>\n",
       "  </thead>\n",
       "  <tbody>\n",
       "    <tr>\n",
       "      <th>0</th>\n",
       "      <td>IndiGo</td>\n",
       "      <td>Banglore</td>\n",
       "      <td>New Delhi</td>\n",
       "      <td>BLR ? DEL</td>\n",
       "      <td>2h 50m</td>\n",
       "      <td>non-stop</td>\n",
       "      <td>No Info</td>\n",
       "      <td>3897</td>\n",
       "      <td>24</td>\n",
       "      <td>3</td>\n",
       "      <td>22</td>\n",
       "      <td>20</td>\n",
       "      <td>1</td>\n",
       "      <td>10</td>\n",
       "    </tr>\n",
       "    <tr>\n",
       "      <th>1</th>\n",
       "      <td>Air India</td>\n",
       "      <td>Kolkata</td>\n",
       "      <td>Banglore</td>\n",
       "      <td>CCU ? IXR ? BBI ? BLR</td>\n",
       "      <td>7h 25m</td>\n",
       "      <td>2 stops</td>\n",
       "      <td>No Info</td>\n",
       "      <td>7662</td>\n",
       "      <td>1</td>\n",
       "      <td>5</td>\n",
       "      <td>5</td>\n",
       "      <td>50</td>\n",
       "      <td>13</td>\n",
       "      <td>15</td>\n",
       "    </tr>\n",
       "    <tr>\n",
       "      <th>2</th>\n",
       "      <td>Jet Airways</td>\n",
       "      <td>Delhi</td>\n",
       "      <td>Cochin</td>\n",
       "      <td>DEL ? LKO ? BOM ? COK</td>\n",
       "      <td>19h</td>\n",
       "      <td>2 stops</td>\n",
       "      <td>No Info</td>\n",
       "      <td>13882</td>\n",
       "      <td>9</td>\n",
       "      <td>6</td>\n",
       "      <td>9</td>\n",
       "      <td>25</td>\n",
       "      <td>4</td>\n",
       "      <td>25</td>\n",
       "    </tr>\n",
       "    <tr>\n",
       "      <th>3</th>\n",
       "      <td>IndiGo</td>\n",
       "      <td>Kolkata</td>\n",
       "      <td>Banglore</td>\n",
       "      <td>CCU ? NAG ? BLR</td>\n",
       "      <td>5h 25m</td>\n",
       "      <td>1 stop</td>\n",
       "      <td>No Info</td>\n",
       "      <td>6218</td>\n",
       "      <td>12</td>\n",
       "      <td>5</td>\n",
       "      <td>18</td>\n",
       "      <td>5</td>\n",
       "      <td>23</td>\n",
       "      <td>30</td>\n",
       "    </tr>\n",
       "    <tr>\n",
       "      <th>4</th>\n",
       "      <td>IndiGo</td>\n",
       "      <td>Banglore</td>\n",
       "      <td>New Delhi</td>\n",
       "      <td>BLR ? NAG ? DEL</td>\n",
       "      <td>4h 45m</td>\n",
       "      <td>1 stop</td>\n",
       "      <td>No Info</td>\n",
       "      <td>13302</td>\n",
       "      <td>1</td>\n",
       "      <td>3</td>\n",
       "      <td>16</td>\n",
       "      <td>50</td>\n",
       "      <td>21</td>\n",
       "      <td>35</td>\n",
       "    </tr>\n",
       "  </tbody>\n",
       "</table>\n",
       "</div>"
      ],
      "text/plain": [
       "       Airline    Source Destination                  Route Duration  \\\n",
       "0       IndiGo  Banglore   New Delhi              BLR ? DEL   2h 50m   \n",
       "1    Air India   Kolkata    Banglore  CCU ? IXR ? BBI ? BLR   7h 25m   \n",
       "2  Jet Airways     Delhi      Cochin  DEL ? LKO ? BOM ? COK      19h   \n",
       "3       IndiGo   Kolkata    Banglore        CCU ? NAG ? BLR   5h 25m   \n",
       "4       IndiGo  Banglore   New Delhi        BLR ? NAG ? DEL   4h 45m   \n",
       "\n",
       "  Total_Stops Additional_Info  Price  Journey_day  Journey_month  Dep_hour  \\\n",
       "0    non-stop         No Info   3897           24              3        22   \n",
       "1     2 stops         No Info   7662            1              5         5   \n",
       "2     2 stops         No Info  13882            9              6         9   \n",
       "3      1 stop         No Info   6218           12              5        18   \n",
       "4      1 stop         No Info  13302            1              3        16   \n",
       "\n",
       "   Dep_min  Arrival_hour  Arrival_min  \n",
       "0       20             1           10  \n",
       "1       50            13           15  \n",
       "2       25             4           25  \n",
       "3        5            23           30  \n",
       "4       50            21           35  "
      ]
     },
     "execution_count": 30,
     "metadata": {},
     "output_type": "execute_result"
    }
   ],
   "source": [
    "df.head()"
   ]
  },
  {
   "cell_type": "code",
   "execution_count": 31,
   "id": "ef6fcbf0",
   "metadata": {},
   "outputs": [],
   "source": [
    "df.drop_duplicates(keep='first',inplace=True)\n",
    "\n",
    "# drop the dublicated data and save it"
   ]
  },
  {
   "cell_type": "code",
   "execution_count": 32,
   "id": "0bd57643",
   "metadata": {},
   "outputs": [
    {
     "data": {
      "text/html": [
       "<div>\n",
       "<style scoped>\n",
       "    .dataframe tbody tr th:only-of-type {\n",
       "        vertical-align: middle;\n",
       "    }\n",
       "\n",
       "    .dataframe tbody tr th {\n",
       "        vertical-align: top;\n",
       "    }\n",
       "\n",
       "    .dataframe thead th {\n",
       "        text-align: right;\n",
       "    }\n",
       "</style>\n",
       "<table border=\"1\" class=\"dataframe\">\n",
       "  <thead>\n",
       "    <tr style=\"text-align: right;\">\n",
       "      <th></th>\n",
       "      <th>Airline</th>\n",
       "      <th>Source</th>\n",
       "      <th>Destination</th>\n",
       "      <th>Route</th>\n",
       "      <th>Duration</th>\n",
       "      <th>Total_Stops</th>\n",
       "      <th>Additional_Info</th>\n",
       "      <th>Price</th>\n",
       "      <th>Journey_day</th>\n",
       "      <th>Journey_month</th>\n",
       "      <th>Dep_hour</th>\n",
       "      <th>Dep_min</th>\n",
       "      <th>Arrival_hour</th>\n",
       "      <th>Arrival_min</th>\n",
       "    </tr>\n",
       "  </thead>\n",
       "  <tbody>\n",
       "  </tbody>\n",
       "</table>\n",
       "</div>"
      ],
      "text/plain": [
       "Empty DataFrame\n",
       "Columns: [Airline, Source, Destination, Route, Duration, Total_Stops, Additional_Info, Price, Journey_day, Journey_month, Dep_hour, Dep_min, Arrival_hour, Arrival_min]\n",
       "Index: []"
      ]
     },
     "execution_count": 32,
     "metadata": {},
     "output_type": "execute_result"
    }
   ],
   "source": [
    "df[df.duplicated()]\n",
    "\n",
    "# to insure the duplicated data is droped"
   ]
  },
  {
   "cell_type": "code",
   "execution_count": 33,
   "id": "75f04d75",
   "metadata": {},
   "outputs": [],
   "source": [
    "df[\"Duration\"]=df['Duration'].str.replace(\"h\", '*60').str.replace(' ','+').str.replace('m','*1').apply(eval)\n",
    "\n",
    "#split the duration to hours and minute "
   ]
  },
  {
   "cell_type": "code",
   "execution_count": 34,
   "id": "17ebd577",
   "metadata": {},
   "outputs": [],
   "source": [
    "df.Duration = np.log(df.Duration)"
   ]
  },
  {
   "cell_type": "code",
   "execution_count": 35,
   "id": "f5b3ef52",
   "metadata": {},
   "outputs": [],
   "source": [
    "Airline = df[[\"Airline\"]]\n",
    "\n",
    "Airline = pd.get_dummies(Airline, drop_first= True)\n",
    "\n",
    "#convert the string data to integer data "
   ]
  },
  {
   "cell_type": "code",
   "execution_count": 36,
   "id": "1effd109",
   "metadata": {},
   "outputs": [],
   "source": [
    "Source = df[[\"Source\"]]\n",
    "Source = pd.get_dummies(Source, drop_first= True)\n",
    "\n",
    "Destination = df[[\"Destination\"]]\n",
    "Destination = pd.get_dummies(Destination, drop_first = True)\n",
    "\n",
    "# convert the string data to integer data"
   ]
  },
  {
   "cell_type": "code",
   "execution_count": 37,
   "id": "2834d501",
   "metadata": {},
   "outputs": [],
   "source": [
    "df.replace({\"non-stop\": 0, \"1 stop\": 1, \"2 stops\": 2, \"3 stops\": 3, \"4 stops\": 4}, inplace = True)\n",
    "\n",
    "# convert the stops from string and integer"
   ]
  },
  {
   "cell_type": "code",
   "execution_count": 38,
   "id": "a307b546",
   "metadata": {},
   "outputs": [],
   "source": [
    "df['Additional_Info'].replace({\"No info\": 'No Info'}, inplace = True)\n",
    "\n",
    "# replace to info = no Info"
   ]
  },
  {
   "cell_type": "code",
   "execution_count": 39,
   "id": "2a7dd263",
   "metadata": {},
   "outputs": [],
   "source": [
    "Add_info = df[[\"Additional_Info\"]]\n",
    "Add_info = pd.get_dummies(Add_info, drop_first = True)\n",
    "\n",
    "#  convert the string data to integer data"
   ]
  },
  {
   "cell_type": "code",
   "execution_count": 40,
   "id": "aa3084e0",
   "metadata": {},
   "outputs": [],
   "source": [
    "# do concat to new columns (integer) \n",
    "df = pd.concat([df, Airline, Source, Destination,Add_info], axis = 1)\n",
    "\n",
    "df.drop([\"Airline\", \"Source\", \"Destination\",\"Additional_Info\",'Route'], axis = 1, inplace = True)\n",
    "\n",
    "# droped the original columns"
   ]
  },
  {
   "cell_type": "code",
   "execution_count": 41,
   "id": "ea5c4c17",
   "metadata": {},
   "outputs": [
    {
     "data": {
      "text/html": [
       "<div>\n",
       "<style scoped>\n",
       "    .dataframe tbody tr th:only-of-type {\n",
       "        vertical-align: middle;\n",
       "    }\n",
       "\n",
       "    .dataframe tbody tr th {\n",
       "        vertical-align: top;\n",
       "    }\n",
       "\n",
       "    .dataframe thead th {\n",
       "        text-align: right;\n",
       "    }\n",
       "</style>\n",
       "<table border=\"1\" class=\"dataframe\">\n",
       "  <thead>\n",
       "    <tr style=\"text-align: right;\">\n",
       "      <th></th>\n",
       "      <th>Duration</th>\n",
       "      <th>Total_Stops</th>\n",
       "      <th>Price</th>\n",
       "      <th>Journey_day</th>\n",
       "      <th>Journey_month</th>\n",
       "      <th>Dep_hour</th>\n",
       "      <th>Dep_min</th>\n",
       "      <th>Arrival_hour</th>\n",
       "      <th>Arrival_min</th>\n",
       "      <th>Airline_Air India</th>\n",
       "      <th>...</th>\n",
       "      <th>Destination_Kolkata</th>\n",
       "      <th>Destination_New Delhi</th>\n",
       "      <th>Additional_Info_1 Short layover</th>\n",
       "      <th>Additional_Info_2 Long layover</th>\n",
       "      <th>Additional_Info_Business class</th>\n",
       "      <th>Additional_Info_Change airports</th>\n",
       "      <th>Additional_Info_In-flight meal not included</th>\n",
       "      <th>Additional_Info_No Info</th>\n",
       "      <th>Additional_Info_No check-in baggage included</th>\n",
       "      <th>Additional_Info_Red-eye flight</th>\n",
       "    </tr>\n",
       "  </thead>\n",
       "  <tbody>\n",
       "    <tr>\n",
       "      <th>0</th>\n",
       "      <td>5.135798</td>\n",
       "      <td>0</td>\n",
       "      <td>3897</td>\n",
       "      <td>24</td>\n",
       "      <td>3</td>\n",
       "      <td>22</td>\n",
       "      <td>20</td>\n",
       "      <td>1</td>\n",
       "      <td>10</td>\n",
       "      <td>0</td>\n",
       "      <td>...</td>\n",
       "      <td>0</td>\n",
       "      <td>1</td>\n",
       "      <td>0</td>\n",
       "      <td>0</td>\n",
       "      <td>0</td>\n",
       "      <td>0</td>\n",
       "      <td>0</td>\n",
       "      <td>1</td>\n",
       "      <td>0</td>\n",
       "      <td>0</td>\n",
       "    </tr>\n",
       "    <tr>\n",
       "      <th>1</th>\n",
       "      <td>6.098074</td>\n",
       "      <td>2</td>\n",
       "      <td>7662</td>\n",
       "      <td>1</td>\n",
       "      <td>5</td>\n",
       "      <td>5</td>\n",
       "      <td>50</td>\n",
       "      <td>13</td>\n",
       "      <td>15</td>\n",
       "      <td>1</td>\n",
       "      <td>...</td>\n",
       "      <td>0</td>\n",
       "      <td>0</td>\n",
       "      <td>0</td>\n",
       "      <td>0</td>\n",
       "      <td>0</td>\n",
       "      <td>0</td>\n",
       "      <td>0</td>\n",
       "      <td>1</td>\n",
       "      <td>0</td>\n",
       "      <td>0</td>\n",
       "    </tr>\n",
       "    <tr>\n",
       "      <th>2</th>\n",
       "      <td>7.038784</td>\n",
       "      <td>2</td>\n",
       "      <td>13882</td>\n",
       "      <td>9</td>\n",
       "      <td>6</td>\n",
       "      <td>9</td>\n",
       "      <td>25</td>\n",
       "      <td>4</td>\n",
       "      <td>25</td>\n",
       "      <td>0</td>\n",
       "      <td>...</td>\n",
       "      <td>0</td>\n",
       "      <td>0</td>\n",
       "      <td>0</td>\n",
       "      <td>0</td>\n",
       "      <td>0</td>\n",
       "      <td>0</td>\n",
       "      <td>0</td>\n",
       "      <td>1</td>\n",
       "      <td>0</td>\n",
       "      <td>0</td>\n",
       "    </tr>\n",
       "    <tr>\n",
       "      <th>3</th>\n",
       "      <td>5.783825</td>\n",
       "      <td>1</td>\n",
       "      <td>6218</td>\n",
       "      <td>12</td>\n",
       "      <td>5</td>\n",
       "      <td>18</td>\n",
       "      <td>5</td>\n",
       "      <td>23</td>\n",
       "      <td>30</td>\n",
       "      <td>0</td>\n",
       "      <td>...</td>\n",
       "      <td>0</td>\n",
       "      <td>0</td>\n",
       "      <td>0</td>\n",
       "      <td>0</td>\n",
       "      <td>0</td>\n",
       "      <td>0</td>\n",
       "      <td>0</td>\n",
       "      <td>1</td>\n",
       "      <td>0</td>\n",
       "      <td>0</td>\n",
       "    </tr>\n",
       "    <tr>\n",
       "      <th>4</th>\n",
       "      <td>5.652489</td>\n",
       "      <td>1</td>\n",
       "      <td>13302</td>\n",
       "      <td>1</td>\n",
       "      <td>3</td>\n",
       "      <td>16</td>\n",
       "      <td>50</td>\n",
       "      <td>21</td>\n",
       "      <td>35</td>\n",
       "      <td>0</td>\n",
       "      <td>...</td>\n",
       "      <td>0</td>\n",
       "      <td>1</td>\n",
       "      <td>0</td>\n",
       "      <td>0</td>\n",
       "      <td>0</td>\n",
       "      <td>0</td>\n",
       "      <td>0</td>\n",
       "      <td>1</td>\n",
       "      <td>0</td>\n",
       "      <td>0</td>\n",
       "    </tr>\n",
       "    <tr>\n",
       "      <th>...</th>\n",
       "      <td>...</td>\n",
       "      <td>...</td>\n",
       "      <td>...</td>\n",
       "      <td>...</td>\n",
       "      <td>...</td>\n",
       "      <td>...</td>\n",
       "      <td>...</td>\n",
       "      <td>...</td>\n",
       "      <td>...</td>\n",
       "      <td>...</td>\n",
       "      <td>...</td>\n",
       "      <td>...</td>\n",
       "      <td>...</td>\n",
       "      <td>...</td>\n",
       "      <td>...</td>\n",
       "      <td>...</td>\n",
       "      <td>...</td>\n",
       "      <td>...</td>\n",
       "      <td>...</td>\n",
       "      <td>...</td>\n",
       "      <td>...</td>\n",
       "    </tr>\n",
       "    <tr>\n",
       "      <th>10678</th>\n",
       "      <td>5.010635</td>\n",
       "      <td>0</td>\n",
       "      <td>4107</td>\n",
       "      <td>9</td>\n",
       "      <td>4</td>\n",
       "      <td>19</td>\n",
       "      <td>55</td>\n",
       "      <td>22</td>\n",
       "      <td>25</td>\n",
       "      <td>0</td>\n",
       "      <td>...</td>\n",
       "      <td>0</td>\n",
       "      <td>0</td>\n",
       "      <td>0</td>\n",
       "      <td>0</td>\n",
       "      <td>0</td>\n",
       "      <td>0</td>\n",
       "      <td>0</td>\n",
       "      <td>1</td>\n",
       "      <td>0</td>\n",
       "      <td>0</td>\n",
       "    </tr>\n",
       "    <tr>\n",
       "      <th>10679</th>\n",
       "      <td>5.043425</td>\n",
       "      <td>0</td>\n",
       "      <td>4145</td>\n",
       "      <td>27</td>\n",
       "      <td>4</td>\n",
       "      <td>20</td>\n",
       "      <td>45</td>\n",
       "      <td>23</td>\n",
       "      <td>20</td>\n",
       "      <td>1</td>\n",
       "      <td>...</td>\n",
       "      <td>0</td>\n",
       "      <td>0</td>\n",
       "      <td>0</td>\n",
       "      <td>0</td>\n",
       "      <td>0</td>\n",
       "      <td>0</td>\n",
       "      <td>0</td>\n",
       "      <td>1</td>\n",
       "      <td>0</td>\n",
       "      <td>0</td>\n",
       "    </tr>\n",
       "    <tr>\n",
       "      <th>10680</th>\n",
       "      <td>5.192957</td>\n",
       "      <td>0</td>\n",
       "      <td>7229</td>\n",
       "      <td>27</td>\n",
       "      <td>4</td>\n",
       "      <td>8</td>\n",
       "      <td>20</td>\n",
       "      <td>11</td>\n",
       "      <td>20</td>\n",
       "      <td>0</td>\n",
       "      <td>...</td>\n",
       "      <td>0</td>\n",
       "      <td>0</td>\n",
       "      <td>0</td>\n",
       "      <td>0</td>\n",
       "      <td>0</td>\n",
       "      <td>0</td>\n",
       "      <td>0</td>\n",
       "      <td>1</td>\n",
       "      <td>0</td>\n",
       "      <td>0</td>\n",
       "    </tr>\n",
       "    <tr>\n",
       "      <th>10681</th>\n",
       "      <td>5.075174</td>\n",
       "      <td>0</td>\n",
       "      <td>12648</td>\n",
       "      <td>1</td>\n",
       "      <td>3</td>\n",
       "      <td>11</td>\n",
       "      <td>30</td>\n",
       "      <td>14</td>\n",
       "      <td>10</td>\n",
       "      <td>0</td>\n",
       "      <td>...</td>\n",
       "      <td>0</td>\n",
       "      <td>1</td>\n",
       "      <td>0</td>\n",
       "      <td>0</td>\n",
       "      <td>0</td>\n",
       "      <td>0</td>\n",
       "      <td>0</td>\n",
       "      <td>1</td>\n",
       "      <td>0</td>\n",
       "      <td>0</td>\n",
       "    </tr>\n",
       "    <tr>\n",
       "      <th>10682</th>\n",
       "      <td>6.214608</td>\n",
       "      <td>2</td>\n",
       "      <td>11753</td>\n",
       "      <td>9</td>\n",
       "      <td>5</td>\n",
       "      <td>10</td>\n",
       "      <td>55</td>\n",
       "      <td>19</td>\n",
       "      <td>15</td>\n",
       "      <td>1</td>\n",
       "      <td>...</td>\n",
       "      <td>0</td>\n",
       "      <td>0</td>\n",
       "      <td>0</td>\n",
       "      <td>0</td>\n",
       "      <td>0</td>\n",
       "      <td>0</td>\n",
       "      <td>0</td>\n",
       "      <td>1</td>\n",
       "      <td>0</td>\n",
       "      <td>0</td>\n",
       "    </tr>\n",
       "  </tbody>\n",
       "</table>\n",
       "<p>10460 rows × 37 columns</p>\n",
       "</div>"
      ],
      "text/plain": [
       "       Duration  Total_Stops  Price  Journey_day  Journey_month  Dep_hour  \\\n",
       "0      5.135798            0   3897           24              3        22   \n",
       "1      6.098074            2   7662            1              5         5   \n",
       "2      7.038784            2  13882            9              6         9   \n",
       "3      5.783825            1   6218           12              5        18   \n",
       "4      5.652489            1  13302            1              3        16   \n",
       "...         ...          ...    ...          ...            ...       ...   \n",
       "10678  5.010635            0   4107            9              4        19   \n",
       "10679  5.043425            0   4145           27              4        20   \n",
       "10680  5.192957            0   7229           27              4         8   \n",
       "10681  5.075174            0  12648            1              3        11   \n",
       "10682  6.214608            2  11753            9              5        10   \n",
       "\n",
       "       Dep_min  Arrival_hour  Arrival_min  Airline_Air India  ...  \\\n",
       "0           20             1           10                  0  ...   \n",
       "1           50            13           15                  1  ...   \n",
       "2           25             4           25                  0  ...   \n",
       "3            5            23           30                  0  ...   \n",
       "4           50            21           35                  0  ...   \n",
       "...        ...           ...          ...                ...  ...   \n",
       "10678       55            22           25                  0  ...   \n",
       "10679       45            23           20                  1  ...   \n",
       "10680       20            11           20                  0  ...   \n",
       "10681       30            14           10                  0  ...   \n",
       "10682       55            19           15                  1  ...   \n",
       "\n",
       "       Destination_Kolkata  Destination_New Delhi  \\\n",
       "0                        0                      1   \n",
       "1                        0                      0   \n",
       "2                        0                      0   \n",
       "3                        0                      0   \n",
       "4                        0                      1   \n",
       "...                    ...                    ...   \n",
       "10678                    0                      0   \n",
       "10679                    0                      0   \n",
       "10680                    0                      0   \n",
       "10681                    0                      1   \n",
       "10682                    0                      0   \n",
       "\n",
       "       Additional_Info_1 Short layover  Additional_Info_2 Long layover  \\\n",
       "0                                    0                               0   \n",
       "1                                    0                               0   \n",
       "2                                    0                               0   \n",
       "3                                    0                               0   \n",
       "4                                    0                               0   \n",
       "...                                ...                             ...   \n",
       "10678                                0                               0   \n",
       "10679                                0                               0   \n",
       "10680                                0                               0   \n",
       "10681                                0                               0   \n",
       "10682                                0                               0   \n",
       "\n",
       "       Additional_Info_Business class  Additional_Info_Change airports  \\\n",
       "0                                   0                                0   \n",
       "1                                   0                                0   \n",
       "2                                   0                                0   \n",
       "3                                   0                                0   \n",
       "4                                   0                                0   \n",
       "...                               ...                              ...   \n",
       "10678                               0                                0   \n",
       "10679                               0                                0   \n",
       "10680                               0                                0   \n",
       "10681                               0                                0   \n",
       "10682                               0                                0   \n",
       "\n",
       "       Additional_Info_In-flight meal not included  Additional_Info_No Info  \\\n",
       "0                                                0                        1   \n",
       "1                                                0                        1   \n",
       "2                                                0                        1   \n",
       "3                                                0                        1   \n",
       "4                                                0                        1   \n",
       "...                                            ...                      ...   \n",
       "10678                                            0                        1   \n",
       "10679                                            0                        1   \n",
       "10680                                            0                        1   \n",
       "10681                                            0                        1   \n",
       "10682                                            0                        1   \n",
       "\n",
       "       Additional_Info_No check-in baggage included  \\\n",
       "0                                                 0   \n",
       "1                                                 0   \n",
       "2                                                 0   \n",
       "3                                                 0   \n",
       "4                                                 0   \n",
       "...                                             ...   \n",
       "10678                                             0   \n",
       "10679                                             0   \n",
       "10680                                             0   \n",
       "10681                                             0   \n",
       "10682                                             0   \n",
       "\n",
       "       Additional_Info_Red-eye flight  \n",
       "0                                   0  \n",
       "1                                   0  \n",
       "2                                   0  \n",
       "3                                   0  \n",
       "4                                   0  \n",
       "...                               ...  \n",
       "10678                               0  \n",
       "10679                               0  \n",
       "10680                               0  \n",
       "10681                               0  \n",
       "10682                               0  \n",
       "\n",
       "[10460 rows x 37 columns]"
      ]
     },
     "execution_count": 41,
     "metadata": {},
     "output_type": "execute_result"
    }
   ],
   "source": [
    "df"
   ]
  },
  {
   "cell_type": "code",
   "execution_count": 42,
   "id": "ed95a3ff",
   "metadata": {},
   "outputs": [
    {
     "data": {
      "text/plain": [
       "Index(['Duration', 'Total_Stops', 'Price', 'Journey_day', 'Journey_month',\n",
       "       'Dep_hour', 'Dep_min', 'Arrival_hour', 'Arrival_min',\n",
       "       'Airline_Air India', 'Airline_GoAir', 'Airline_IndiGo',\n",
       "       'Airline_Jet Airways', 'Airline_Jet Airways Business',\n",
       "       'Airline_Multiple carriers',\n",
       "       'Airline_Multiple carriers Premium economy', 'Airline_SpiceJet',\n",
       "       'Airline_Trujet', 'Airline_Vistara', 'Airline_Vistara Premium economy',\n",
       "       'Source_Chennai', 'Source_Delhi', 'Source_Kolkata', 'Source_Mumbai',\n",
       "       'Destination_Cochin', 'Destination_Delhi', 'Destination_Hyderabad',\n",
       "       'Destination_Kolkata', 'Destination_New Delhi',\n",
       "       'Additional_Info_1 Short layover', 'Additional_Info_2 Long layover',\n",
       "       'Additional_Info_Business class', 'Additional_Info_Change airports',\n",
       "       'Additional_Info_In-flight meal not included',\n",
       "       'Additional_Info_No Info',\n",
       "       'Additional_Info_No check-in baggage included',\n",
       "       'Additional_Info_Red-eye flight'],\n",
       "      dtype='object')"
      ]
     },
     "execution_count": 42,
     "metadata": {},
     "output_type": "execute_result"
    }
   ],
   "source": [
    "df.columns"
   ]
  },
  {
   "cell_type": "markdown",
   "id": "4ef2623e",
   "metadata": {},
   "source": [
    "# Machine model"
   ]
  },
  {
   "cell_type": "code",
   "execution_count": 43,
   "id": "fd273b2e",
   "metadata": {},
   "outputs": [],
   "source": [
    "# drop price column\n",
    "x = df.drop('Price',axis=1)\n",
    "\n",
    "# new column to price = y\n",
    "y = df['Price']\n",
    "\n",
    "#train-test split\n",
    "\n",
    "from sklearn.model_selection import train_test_split\n",
    "X_train , X_test, y_train, y_test = train_test_split(x, y, test_size = 0.2, random_state = 51)\n",
    "# test size=2/10 ,and train size = 0.8, and random state=51(best value)"
   ]
  },
  {
   "cell_type": "code",
   "execution_count": 44,
   "id": "426e5076",
   "metadata": {},
   "outputs": [
    {
     "data": {
      "text/plain": [
       "LinearRegression()"
      ]
     },
     "execution_count": 44,
     "metadata": {},
     "output_type": "execute_result"
    }
   ],
   "source": [
    "X_train\n",
    "from sklearn.linear_model import LinearRegression\n",
    "regressor = LinearRegression()\n",
    "regressor.fit(X_train, y_train)\n",
    "\n",
    "# use LinearRegression model "
   ]
  },
  {
   "cell_type": "code",
   "execution_count": 45,
   "id": "73dab5ce",
   "metadata": {},
   "outputs": [
    {
     "data": {
      "text/plain": [
       "array([ 9947.05849889, 11600.98573025,  5030.63406015, ...,\n",
       "        9394.48873346,  8882.87097135,  9730.96679598])"
      ]
     },
     "execution_count": 45,
     "metadata": {},
     "output_type": "execute_result"
    }
   ],
   "source": [
    "y_pred = regressor.predict(X_test)\n",
    "y_pred\n",
    "\n",
    "# predict y"
   ]
  },
  {
   "cell_type": "code",
   "execution_count": 46,
   "id": "5ebaabd6",
   "metadata": {},
   "outputs": [
    {
     "data": {
      "text/plain": [
       "0.6848160304507156"
      ]
     },
     "execution_count": 46,
     "metadata": {},
     "output_type": "execute_result"
    }
   ],
   "source": [
    "regressor.score(X_train , y_train)\n",
    "\n",
    "# presentage between x train and y train"
   ]
  },
  {
   "cell_type": "code",
   "execution_count": 47,
   "id": "5930703f",
   "metadata": {},
   "outputs": [
    {
     "data": {
      "text/plain": [
       "0.7227399147119276"
      ]
     },
     "execution_count": 47,
     "metadata": {},
     "output_type": "execute_result"
    }
   ],
   "source": [
    "regressor.score(X_test , y_test)\n",
    "\n",
    "# presentage between x test and y test = acuraccy"
   ]
  },
  {
   "cell_type": "code",
   "execution_count": 48,
   "id": "86c15000",
   "metadata": {},
   "outputs": [
    {
     "name": "stderr",
     "output_type": "stream",
     "text": [
      "C:\\Users\\Youssef\\anaconda3\\lib\\site-packages\\seaborn\\distributions.py:2619: FutureWarning: `distplot` is a deprecated function and will be removed in a future version. Please adapt your code to use either `displot` (a figure-level function with similar flexibility) or `histplot` (an axes-level function for histograms).\n",
      "  warnings.warn(msg, FutureWarning)\n"
     ]
    },
    {
     "data": {
      "text/plain": [
       "<AxesSubplot:xlabel='Price', ylabel='Density'>"
      ]
     },
     "execution_count": 48,
     "metadata": {},
     "output_type": "execute_result"
    },
    {
     "data": {
      "image/png": "[encoded data removed]",
      "text/plain": [
       "<Figure size 432x288 with 1 Axes>"
      ]
     },
     "metadata": {
      "needs_background": "light"
     },
     "output_type": "display_data"
    }
   ],
   "source": [
    "sns.distplot(y_test - y_pred)\n",
    "\n",
    "# relation between test data and prediction data "
   ]
  },
  {
   "cell_type": "code",
   "execution_count": 49,
   "id": "4c265df2",
   "metadata": {},
   "outputs": [],
   "source": [
    "# output: standard normal distribution for density of price between y test and y pred"
   ]
  },
  {
   "cell_type": "code",
   "execution_count": 50,
   "id": "4cfdbf10",
   "metadata": {},
   "outputs": [
    {
     "data": {
      "text/plain": [
       "Text(0, 0.5, 'y_pred')"
      ]
     },
     "execution_count": 50,
     "metadata": {},
     "output_type": "execute_result"
    },
    {
     "data": {
      "image/png": "[encoded data removed]",
      "text/plain": [
       "<Figure size 432x288 with 1 Axes>"
      ]
     },
     "metadata": {
      "needs_background": "light"
     },
     "output_type": "display_data"
    }
   ],
   "source": [
    "plt.scatter(y_test , y_pred , alpha=0.8)\n",
    "plt.xlabel('y_test')\n",
    "plt.ylabel('y_pred')\n",
    "\n",
    "# relation between test data and prediction data by scatter"
   ]
  },
  {
   "cell_type": "code",
   "execution_count": 51,
   "id": "078367d8",
   "metadata": {},
   "outputs": [],
   "source": [
    "# output: show outlires in output "
   ]
  },
  {
   "cell_type": "code",
   "execution_count": 52,
   "id": "2f13d1e2",
   "metadata": {},
   "outputs": [
    {
     "name": "stdout",
     "output_type": "stream",
     "text": [
      "MSE: 6140371.345599157\n",
      "MAE: 1774.2789276407943\n",
      "RMSE: 2477.9772689835468\n",
      "r2_score: 0.7227399147119276\n"
     ]
    }
   ],
   "source": [
    "from sklearn import metrics\n",
    "print(\"MSE:\",metrics.mean_squared_error(y_pred,y_test))\n",
    "# the rules to calculate the error\n",
    "\n",
    "print(\"MAE:\",metrics.mean_absolute_error(y_pred,y_test))\n",
    "# another rule to calculate error\n",
    "\n",
    "print(\"RMSE:\",np.sqrt(metrics.mean_squared_error(y_pred,y_test)))\n",
    "# so rule to calculate error\n",
    "\n",
    "print(\"r2_score:\",metrics.r2_score(y_test,y_pred)) \n",
    "# the acuraccy"
   ]
  },
  {
   "cell_type": "code",
   "execution_count": null,
   "id": "bef9a129",
   "metadata": {},
   "outputs": [],
   "source": []
  },
  {
   "cell_type": "code",
   "execution_count": null,
   "id": "1d6bd7dc",
   "metadata": {},
   "outputs": [],
   "source": []
  }
 ],
 "metadata": {
  "kernelspec": {
   "display_name": "Python 3 (ipykernel)",
   "language": "python",
   "name": "python3"
  },
  "language_info": {
   "codemirror_mode": {
    "name": "ipython",
    "version": 3
   },
   "file_extension": ".py",
   "mimetype": "text/x-python",
   "name": "python",
   "nbconvert_exporter": "python",
   "pygments_lexer": "ipython3",
   "version": "3.9.12"
  }
 },
 "nbformat": 4,
 "nbformat_minor": 5
}
