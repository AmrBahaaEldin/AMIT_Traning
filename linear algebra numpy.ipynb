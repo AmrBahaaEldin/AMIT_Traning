{
 "cells": [
  {
   "cell_type": "markdown",
   "metadata": {},
   "source": [
    "## Write a Numpy program to compute the multiplication of two given matrixes"
   ]
  },
  {
   "cell_type": "code",
   "execution_count": null,
   "metadata": {},
   "outputs": [],
   "source": [
    "#Write a NumPy program to compute the multiplication of two given matrixes.\n",
    "\n",
    "Sample Matrix:\n",
    "\n",
    "#[[3, 4], [2, 1]]\n",
    "#[[1, 2], [3, 4]]"
   ]
  },
  {
   "cell_type": "code",
   "execution_count": 3,
   "metadata": {},
   "outputs": [
    {
     "name": "stdout",
     "output_type": "stream",
     "text": [
      "original matrix:\n",
      "[[3, 4], [2, 1]]\n",
      "[[1, 2], [3, 4]]\n",
      "Result of the said matrix multiplication:\n",
      "[[15 22]\n",
      " [ 5  8]]\n"
     ]
    }
   ],
   "source": [
    "import numpy as np\n",
    "p = [[3, 4], [2, 1]]\n",
    "q = [[1, 2], [3, 4]]\n",
    "print(\"original matrix:\")\n",
    "print(p)\n",
    "print(q)\n",
    "result1 = np.dot(p, q)\n",
    "print(\"Result of the said matrix multiplication:\")\n",
    "print(result1)"
   ]
  },
  {
   "cell_type": "markdown",
   "metadata": {},
   "source": [
    "## Write a NumPy program to compute the determinant of a given square array"
   ]
  },
  {
   "cell_type": "code",
   "execution_count": 5,
   "metadata": {},
   "outputs": [
    {
     "name": "stdout",
     "output_type": "stream",
     "text": [
      "Original 2-D matrix\n",
      "[[7 8]\n",
      " [4 5]]\n",
      "Determinant of the 2-D matrix:\n",
      "3.0000000000000018\n"
     ]
    }
   ],
   "source": [
    "# Importing libraries\n",
    "import numpy as np\n",
    "from numpy import linalg\n",
    "  \n",
    "# Creating a 2X2 matrix\n",
    "matrix = np.array([[7, 8], [4, 5]])\n",
    "print(\"Original 2-D matrix\")\n",
    "print(matrix)\n",
    "  \n",
    "# Output\n",
    "print(\"Determinant of the 2-D matrix:\")\n",
    "print(np.linalg.det(matrix))"
   ]
  },
  {
   "cell_type": "code",
   "execution_count": null,
   "metadata": {},
   "outputs": [],
   "source": []
  },
  {
   "cell_type": "markdown",
   "metadata": {},
   "source": [
    "## Write a NumPy program to compute the cross product of two given vectors"
   ]
  },
  {
   "cell_type": "code",
   "execution_count": 7,
   "metadata": {},
   "outputs": [
    {
     "name": "stdout",
     "output_type": "stream",
     "text": [
      "[-5  6]\n"
     ]
    }
   ],
   "source": [
    "# import library\n",
    "import numpy as np\n",
    "  \n",
    "# declare vectors\n",
    "x = [[1, 2], [3, 3]]\n",
    "y = [[5, 5], [7, 9]]\n",
    "  \n",
    "# find cross product of\n",
    "# two given vectors\n",
    "result = np.cross(x, y)\n",
    "  \n",
    "# show the result\n",
    "print(result)"
   ]
  },
  {
   "cell_type": "code",
   "execution_count": null,
   "metadata": {},
   "outputs": [],
   "source": []
  },
  {
   "cell_type": "markdown",
   "metadata": {},
   "source": [
    "## Write a NumPy program to compute the condition number of a given matrix"
   ]
  },
  {
   "cell_type": "code",
   "execution_count": 9,
   "metadata": {},
   "outputs": [
    {
     "name": "stdout",
     "output_type": "stream",
     "text": [
      "Original matrix:\n",
      "[[4 2]\n",
      " [3 4]]\n",
      "Condition number of the said matrix:\n",
      "4.265564437074637\n"
     ]
    }
   ],
   "source": [
    "import numpy as np\n",
    "m = np.array([[4,2],[3,4]])\n",
    "print(\"Original matrix:\")\n",
    "print(m)\n",
    "result =  np.linalg.cond(m)\n",
    "print(\"Condition number of the said matrix:\")\n",
    "print(result)"
   ]
  },
  {
   "cell_type": "code",
   "execution_count": null,
   "metadata": {},
   "outputs": [],
   "source": []
  },
  {
   "cell_type": "markdown",
   "metadata": {},
   "source": [
    "## Write a NumPy program to compute the inverse of a given matrix"
   ]
  },
  {
   "cell_type": "code",
   "execution_count": 13,
   "metadata": {},
   "outputs": [
    {
     "name": "stdout",
     "output_type": "stream",
     "text": [
      "[[ 0.16964286 -0.00892857 -0.01785714]\n",
      " [ 0.29464286 -0.38392857  0.23214286]\n",
      " [-0.3125      0.4375     -0.125     ]]\n"
     ]
    }
   ],
   "source": [
    "# Python program to inverse\n",
    "# a matrix using numpy\n",
    "\n",
    "# Import required package\n",
    "import numpy as np\n",
    "\n",
    "# Taking a 3 * 3 matrix\n",
    "i= np.array([[6, 1, 1],\n",
    "[4, 3, 5],\n",
    "[-1, 8, 7]])\n",
    "\n",
    "# Calculating the inverse of the matrix\n",
    "print(np.linalg.inv(i))\n"
   ]
  },
  {
   "cell_type": "code",
   "execution_count": null,
   "metadata": {},
   "outputs": [],
   "source": []
  },
  {
   "cell_type": "code",
   "execution_count": null,
   "metadata": {},
   "outputs": [],
   "source": []
  }
 ],
 "metadata": {
  "kernelspec": {
   "display_name": "Python 3 (ipykernel)",
   "language": "python",
   "name": "python3"
  },
  "language_info": {
   "codemirror_mode": {
    "name": "ipython",
    "version": 3
   },
   "file_extension": ".py",
   "mimetype": "text/x-python",
   "name": "python",
   "nbconvert_exporter": "python",
   "pygments_lexer": "ipython3",
   "version": "3.9.12"
  }
 },
 "nbformat": 4,
 "nbformat_minor": 2
}
