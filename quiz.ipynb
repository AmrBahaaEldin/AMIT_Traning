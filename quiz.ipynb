{
 "cells": [
  {
   "cell_type": "markdown",
   "id": "fac0964f",
   "metadata": {},
   "source": [
    "#Quiz1\n"
   ]
  },
  {
   "cell_type": "code",
   "execution_count": 5,
   "id": "9d2eb275",
   "metadata": {
    "scrolled": true
   },
   "outputs": [
    {
     "name": "stdout",
     "output_type": "stream",
     "text": [
      "start\n",
      "s\n",
      "sentence\n"
     ]
    }
   ],
   "source": [
    "#create a Statement that will print out words that start with 's'\n",
    "st = 'Print only the words that start with s in this sentence'\n",
    "\n",
    "for word in (w for w in st.split() if w.startswith('s')):\n",
    "    print(word)"
   ]
  },
  {
   "cell_type": "code",
   "execution_count": 6,
   "id": "a869d0df",
   "metadata": {},
   "outputs": [
    {
     "name": "stdout",
     "output_type": "stream",
     "text": [
      "0\n",
      "2\n",
      "4\n",
      "6\n",
      "8\n",
      "10\n"
     ]
    }
   ],
   "source": [
    "#use range to print even number from (0 to 10)\n",
    "for num in range (0,11) :\n",
    "    \n",
    "    if num%2==0:\n",
    "        \n",
    "        print(num)\n",
    "\n"
   ]
  },
  {
   "cell_type": "code",
   "execution_count": 11,
   "id": "16926d74",
   "metadata": {},
   "outputs": [
    {
     "name": "stdout",
     "output_type": "stream",
     "text": [
      "[3, 6, 9, 12, 15, 18, 21, 24, 27, 30, 33, 36, 39, 42, 45, 48]\n"
     ]
    }
   ],
   "source": [
    "#create a list of all numbers between 1 and 50 that are divisible by 3#\n",
    "poplist = [x for x in range(1, 51) if x % 3 == 0]\n",
    "print(poplist)"
   ]
  },
  {
   "cell_type": "code",
   "execution_count": 12,
   "id": "4f7b4c5d",
   "metadata": {},
   "outputs": [
    {
     "name": "stdout",
     "output_type": "stream",
     "text": [
      "1\n",
      "2\n",
      "Fizz\n",
      "4\n",
      "Buzz\n",
      "Fizz\n",
      "7\n",
      "8\n",
      "Fizz\n",
      "Buzz\n",
      "11\n",
      "Fizz\n",
      "13\n",
      "14\n",
      "Fizz\n",
      "16\n",
      "17\n",
      "Fizz\n",
      "19\n",
      "Buzz\n",
      "Fizz\n",
      "22\n",
      "23\n",
      "Fizz\n",
      "Buzz\n",
      "26\n",
      "Fizz\n",
      "28\n",
      "29\n",
      "Fizz\n",
      "31\n",
      "32\n",
      "Fizz\n",
      "34\n",
      "Buzz\n",
      "Fizz\n",
      "37\n",
      "38\n",
      "Fizz\n",
      "Buzz\n",
      "41\n",
      "Fizz\n",
      "43\n",
      "44\n",
      "Fizz\n",
      "46\n",
      "47\n",
      "Fizz\n",
      "49\n",
      "Buzz\n",
      "Fizz\n",
      "52\n",
      "53\n",
      "Fizz\n",
      "Buzz\n",
      "56\n",
      "Fizz\n",
      "58\n",
      "59\n",
      "Fizz\n",
      "61\n",
      "62\n",
      "Fizz\n",
      "64\n",
      "Buzz\n",
      "Fizz\n",
      "67\n",
      "68\n",
      "Fizz\n",
      "Buzz\n",
      "71\n",
      "Fizz\n",
      "73\n",
      "74\n",
      "Fizz\n",
      "76\n",
      "77\n",
      "Fizz\n",
      "79\n",
      "Buzz\n",
      "Fizz\n",
      "82\n",
      "83\n",
      "Fizz\n",
      "Buzz\n",
      "86\n",
      "Fizz\n",
      "88\n",
      "89\n",
      "Fizz\n",
      "91\n",
      "92\n",
      "Fizz\n",
      "94\n",
      "Buzz\n",
      "Fizz\n",
      "97\n",
      "98\n",
      "Fizz\n",
      "Buzz\n"
     ]
    }
   ],
   "source": [
    "##classify the number between (1,100) which number division bt 3 amd 5 and both\n",
    "z= range(1,101)\n",
    "\n",
    "\n",
    "for i in z:\n",
    "    if i%3 == 0:\n",
    "        print('Fizz')\n",
    "    elif i%5 == 0:\n",
    "        print('Buzz')\n",
    "    elif i%3 == 0 and i%5 == 0:\n",
    "        print('Fizz Buzz')\n",
    "    else:\n",
    "        print(i)"
   ]
  },
  {
   "cell_type": "code",
   "execution_count": 14,
   "id": "0042b02d",
   "metadata": {},
   "outputs": [
    {
     "name": "stdout",
     "output_type": "stream",
     "text": [
      "['M', 'n', 'i', 'S']\n"
     ]
    }
   ],
   "source": [
    "#create a list of the first letters of every word in the string below\n",
    "string1 = \"My name is  Sonic\" \n",
    "list2 = [word[0] for word in string1.split()]\n",
    "print(list2)"
   ]
  },
  {
   "cell_type": "code",
   "execution_count": 22,
   "id": "66c98028",
   "metadata": {},
   "outputs": [
    {
     "name": "stdout",
     "output_type": "stream",
     "text": [
      "even: word\n",
      "even: in\n",
      "even: this\n",
      "even: sentence\n",
      "even: that\n",
      "even: an\n",
      "even: even\n",
      "even: number\n",
      "even: of\n"
     ]
    }
   ],
   "source": [
    "# the string below and if the length of a word is even print \"even!\n",
    "st='Print every word in this sentence that has an even number of letters'\n",
    "#splitting the words in a given string\n",
    "sp=st.split(\" \")\n",
    "for i in sp:\n",
    "  #checking the length of words\n",
    "  if len(i)%2==0:\n",
    "    print(\"even:\",i)"
   ]
  },
  {
   "cell_type": "code",
   "execution_count": null,
   "id": "797f681b",
   "metadata": {},
   "outputs": [],
   "source": []
  }
 ],
 "metadata": {
  "kernelspec": {
   "display_name": "Python 3 (ipykernel)",
   "language": "python",
   "name": "python3"
  },
  "language_info": {
   "codemirror_mode": {
    "name": "ipython",
    "version": 3
   },
   "file_extension": ".py",
   "mimetype": "text/x-python",
   "name": "python",
   "nbconvert_exporter": "python",
   "pygments_lexer": "ipython3",
   "version": "3.9.12"
  }
 },
 "nbformat": 4,
 "nbformat_minor": 5
}
