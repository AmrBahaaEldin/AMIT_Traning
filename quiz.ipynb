{
 "cells": [
  {
   "cell_type": "markdown",
   "id": "a1352b7f",
   "metadata": {},
   "source": [
    "#Quiz1\n"
   ]
  },
  {
   "cell_type": "code",
   "execution_count": 24,
   "id": "ed24a98f",
   "metadata": {
    "scrolled": true
   },
   "outputs": [
    {
     "name": "stdout",
     "output_type": "stream",
     "text": [
      "start\n",
      "s\n",
      "sentence\n"
     ]
    }
   ],
   "source": [
    "#create a Statement that will print out words that start with 's'\n",
    "st = 'Print only the words that start with s in this sentence'\n",
    "for chek in st.split():\n",
    "    if chek[0]=='s':\n",
    "        print(chek)"
   ]
  },
  {
   "cell_type": "code",
   "execution_count": 6,
   "id": "ca7dd877",
   "metadata": {},
   "outputs": [
    {
     "name": "stdout",
     "output_type": "stream",
     "text": [
      "0\n",
      "2\n",
      "4\n",
      "6\n",
      "8\n",
      "10\n"
     ]
    }
   ],
   "source": [
    "#use range to print even number from (0 to 10)\n",
    "for num in range (0,11) :\n",
    "    \n",
    "    if num%2==0:\n",
    "        \n",
    "        print(num)\n",
    "\n"
   ]
  },
  {
   "cell_type": "code",
   "execution_count": 11,
   "id": "9751da83",
   "metadata": {},
   "outputs": [
    {
     "name": "stdout",
     "output_type": "stream",
     "text": [
      "[3, 6, 9, 12, 15, 18, 21, 24, 27, 30, 33, 36, 39, 42, 45, 48]\n"
     ]
    }
   ],
   "source": [
    "#create a list of all numbers between 1 and 50 that are divisible by 3#\n",
    "poplist = [x for x in range(1, 51) if x % 3 == 0]\n",
    "print(poplist)"
   ]
  },
  {
   "cell_type": "code",
   "execution_count": 25,
   "id": "094d5bc8",
   "metadata": {},
   "outputs": [
    {
     "name": "stdout",
     "output_type": "stream",
     "text": [
      "error\n",
      "error\n",
      "Fizz\n",
      "error\n",
      "Buzz\n",
      "Fizz\n",
      "error\n",
      "error\n",
      "Fizz\n",
      "Buzz\n",
      "error\n",
      "Fizz\n",
      "error\n",
      "error\n",
      "Fizz Buzz\n",
      "error\n",
      "error\n",
      "Fizz\n",
      "error\n",
      "Buzz\n",
      "Fizz\n",
      "error\n",
      "error\n",
      "Fizz\n",
      "Buzz\n",
      "error\n",
      "Fizz\n",
      "error\n",
      "error\n",
      "Fizz Buzz\n",
      "error\n",
      "error\n",
      "Fizz\n",
      "error\n",
      "Buzz\n",
      "Fizz\n",
      "error\n",
      "error\n",
      "Fizz\n",
      "Buzz\n",
      "error\n",
      "Fizz\n",
      "error\n",
      "error\n",
      "Fizz Buzz\n",
      "error\n",
      "error\n",
      "Fizz\n",
      "error\n",
      "Buzz\n",
      "Fizz\n",
      "error\n",
      "error\n",
      "Fizz\n",
      "Buzz\n",
      "error\n",
      "Fizz\n",
      "error\n",
      "error\n",
      "Fizz Buzz\n",
      "error\n",
      "error\n",
      "Fizz\n",
      "error\n",
      "Buzz\n",
      "Fizz\n",
      "error\n",
      "error\n",
      "Fizz\n",
      "Buzz\n",
      "error\n",
      "Fizz\n",
      "error\n",
      "error\n",
      "Fizz Buzz\n",
      "error\n",
      "error\n",
      "Fizz\n",
      "error\n",
      "Buzz\n",
      "Fizz\n",
      "error\n",
      "error\n",
      "Fizz\n",
      "Buzz\n",
      "error\n",
      "Fizz\n",
      "error\n",
      "error\n",
      "Fizz Buzz\n",
      "error\n",
      "error\n",
      "Fizz\n",
      "error\n",
      "Buzz\n",
      "Fizz\n",
      "error\n",
      "error\n",
      "Fizz\n",
      "Buzz\n"
     ]
    }
   ],
   "source": [
    "#classify the number between (1,100) which number division bt 3 amd 5 and both\n",
    "z= range(1,101)\n",
    "\n",
    "for i in z:\n",
    "    if i%3 == 0 and i%5 == 0:\n",
    "        print('Fizz Buzz')\n",
    "    elif  i%3 == 0:\n",
    "        print('Fizz')\n",
    "    elif i%5 == 0:\n",
    "        print('Buzz')    \n",
    "    else:\n",
    "        print(\"error\")"
   ]
  },
  {
   "cell_type": "code",
   "execution_count": 26,
   "id": "0213836b",
   "metadata": {},
   "outputs": [
    {
     "name": "stdout",
     "output_type": "stream",
     "text": [
      "['C', 'a', 'l', 'o', 't', 'f', 'l', 'o', 'e', 'w', 'i', 't', 's']\n"
     ]
    }
   ],
   "source": [
    "#create a list of the first letters of every word in the string below\n",
    "st = 'Create a list of the first letters of every word in this string' \n",
    "list2 = [word[0] for word in st.split()]\n",
    "print(list2)"
   ]
  },
  {
   "cell_type": "code",
   "execution_count": 22,
   "id": "e57006f5",
   "metadata": {},
   "outputs": [
    {
     "name": "stdout",
     "output_type": "stream",
     "text": [
      "even: word\n",
      "even: in\n",
      "even: this\n",
      "even: sentence\n",
      "even: that\n",
      "even: an\n",
      "even: even\n",
      "even: number\n",
      "even: of\n"
     ]
    }
   ],
   "source": [
    "# the string below and if the length of a word is even print \"even!\n",
    "st='Print every word in this sentence that has an even number of letters'\n",
    "#splitting the words in a given string\n",
    "sp=st.split(\" \")\n",
    "for i in sp:\n",
    "  #checking the length of words\n",
    "  if len(i)%2==0:\n",
    "    print(\"even:\",i)"
   ]
  },
  {
   "cell_type": "code",
   "execution_count": null,
   "id": "5e6d91fa",
   "metadata": {},
   "outputs": [],
   "source": []
  }
 ],
 "metadata": {
  "kernelspec": {
   "display_name": "Python 3 (ipykernel)",
   "language": "python",
   "name": "python3"
  },
  "language_info": {
   "codemirror_mode": {
    "name": "ipython",
    "version": 3
   },
   "file_extension": ".py",
   "mimetype": "text/x-python",
   "name": "python",
   "nbconvert_exporter": "python",
   "pygments_lexer": "ipython3",
   "version": "3.9.12"
  }
 },
 "nbformat": 4,
 "nbformat_minor": 5
}
