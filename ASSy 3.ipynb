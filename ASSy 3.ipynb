{
 "cells": [
  {
   "cell_type": "markdown",
   "id": "ac3226df",
   "metadata": {},
   "source": [
    "# Q1"
   ]
  },
  {
   "cell_type": "code",
   "execution_count": 1,
   "id": "667a09af",
   "metadata": {},
   "outputs": [
    {
     "name": "stdout",
     "output_type": "stream",
     "text": [
      "enter multiplication table:9\n",
      "9 x 1 = 9\n",
      "9 x 2 = 18\n",
      "9 x 3 = 27\n",
      "9 x 4 = 36\n",
      "9 x 5 = 45\n",
      "9 x 6 = 54\n",
      "9 x 7 = 63\n",
      "9 x 8 = 72\n",
      "9 x 9 = 81\n",
      "9 x 10 = 90\n"
     ]
    }
   ],
   "source": [
    "#Write a  program to create the multiplication table (from 1 to 10) of a number.\n",
    "\n",
    "x = int(input('enter multiplication table:'))\n",
    "# use for loop to iterate 10 times\n",
    "for i in range(1, 11):\n",
    "  print(x,'x', i, '=',x*i)"
   ]
  },
  {
   "cell_type": "markdown",
   "id": "fb01ef57",
   "metadata": {},
   "source": [
    "# Q2"
   ]
  },
  {
   "cell_type": "code",
   "execution_count": 11,
   "id": "e29664e8",
   "metadata": {},
   "outputs": [
    {
     "name": "stdout",
     "output_type": "stream",
     "text": [
      "(60, -90)\n"
     ]
    }
   ],
   "source": [
    "### write a function to find the maximum and minimum numbers from a sequence of numbers.\n",
    "def max_min(numbers):\n",
    "  l = numbers[0]\n",
    "  s = numbers[0]\n",
    "  for num in numbers:\n",
    "    if num > l:\n",
    "      l = num\n",
    "    elif num < s:\n",
    "        s = num\n",
    "  return l, s\n",
    "\n",
    "print(max_min([40,60,-90,-10,5,30,14]))\n",
    "\n",
    "\n",
    "\n"
   ]
  },
  {
   "cell_type": "markdown",
   "id": "bcdeb5c2",
   "metadata": {},
   "source": [
    "# Q3"
   ]
  },
  {
   "cell_type": "code",
   "execution_count": 12,
   "id": "e0271ebc",
   "metadata": {},
   "outputs": [
    {
     "name": "stdout",
     "output_type": "stream",
     "text": [
      "lesser_of_two_evens(2,4): 2 \n",
      "lesser_of_two_evens(2,5): 5\n"
     ]
    }
   ],
   "source": [
    "#### LESSER OF TWO EVENS: Write a function that returns the lesser of two given numbers *if* both numbers are even, but returns the greater if one or both numbers are odd\n",
    "def lesser_of_two_evens(x,y):\n",
    "# LESSER OF TWO EVENS: Write a function that returns the lesser of two given numbers if both numbers are even, but returns the greater if one or both numbers are odd\n",
    "    if x % 2 == 0 and y % 2 == 0:\n",
    "        return min(x, y)\n",
    "    else:\n",
    "        return max(x, y)\n",
    "z =lesser_of_two_evens(2,4)\n",
    "s =lesser_of_two_evens(2,5)\n",
    "print('lesser_of_two_evens(2,4):',z,'\\n''lesser_of_two_evens(2,5):',s)\n",
    "\n",
    "\n",
    "\n",
    "\n",
    "\n",
    "\n",
    "\n",
    "\n"
   ]
  },
  {
   "cell_type": "markdown",
   "id": "d9fa9f09",
   "metadata": {},
   "source": [
    "# Q4"
   ]
  },
  {
   "cell_type": "code",
   "execution_count": 13,
   "id": "ee9eddfa",
   "metadata": {},
   "outputs": [
    {
     "name": "stdout",
     "output_type": "stream",
     "text": [
      "The number is outside the given range.\n"
     ]
    }
   ],
   "source": [
    "# Write a Python function to check whether a number is in a given range.\n",
    "def check_number(n):\n",
    "    # The range is from 3 to 11\n",
    "    if n in range(3, 11):\n",
    "        print(\"the number is in the range:\", str(n))\n",
    "    else:\n",
    "        print(\"The number is outside the given range.\")\n",
    "check_number(11)\n"
   ]
  },
  {
   "cell_type": "markdown",
   "id": "529f738e",
   "metadata": {},
   "source": [
    "# Q5"
   ]
  },
  {
   "cell_type": "code",
   "execution_count": 14,
   "id": "3e94df63",
   "metadata": {},
   "outputs": [
    {
     "name": "stdout",
     "output_type": "stream",
     "text": [
      "input a number to compute the factiorial : 6\n",
      "720\n"
     ]
    }
   ],
   "source": [
    "### Write a Python function to calculate the factorial of a number (a non-negative integer). The function accepts the number from the user\n",
    "def factorial(n):\n",
    "    if n == 0:\n",
    "        return 1\n",
    "    else:\n",
    "        return n * factorial(n-1)\n",
    "n =int(input(\"input a number to compute the factiorial : \"))\n",
    "print(factorial(n))"
   ]
  },
  {
   "cell_type": "markdown",
   "id": "0ae4f4f9",
   "metadata": {},
   "source": [
    "# Q6"
   ]
  },
  {
   "cell_type": "code",
   "execution_count": 15,
   "id": "6622b8db",
   "metadata": {},
   "outputs": [
    {
     "name": "stdout",
     "output_type": "stream",
     "text": [
      "True\n",
      "None\n"
     ]
    }
   ],
   "source": [
    "### Write a Python function that takes two lists and returns True if they have at least one common member.\n",
    "def common_data(list1, list2):\n",
    "    result = False\n",
    "    for x in list1:\n",
    "        for y in list2:\n",
    "            if x == y:\n",
    "                result = True\n",
    "                return result\n",
    "\n",
    " \n",
    "print(common_data([15, 6, 7, 8, 9], [1, 2, 3, 4, 15]))\n",
    "print(common_data([15, 6, 7, 8, 9], [11, 12, 3, 14]))"
   ]
  },
  {
   "cell_type": "markdown",
   "id": "0a985ce3",
   "metadata": {},
   "source": [
    "# Q7"
   ]
  },
  {
   "cell_type": "code",
   "execution_count": 16,
   "id": "beb1c94a",
   "metadata": {},
   "outputs": [
    {
     "name": "stdout",
     "output_type": "stream",
     "text": [
      "1\n",
      "4\n"
     ]
    }
   ],
   "source": [
    "## Write a function to count the number 4 in a given list.\n",
    "#search num(4)\n",
    "def list_count_4(nums):\n",
    "  count = 0\n",
    "  for num in nums:\n",
    "    if num == 4:\n",
    "      count = count + 1\n",
    "\n",
    "  return count\n",
    "\n",
    "print(list_count_4([7, 4, 6, 8, 0]))\n",
    "print(list_count_4([1, 4, 4, 4, 7, 4]))"
   ]
  },
  {
   "cell_type": "markdown",
   "id": "bc0e25a8",
   "metadata": {},
   "source": [
    "# Q8"
   ]
  },
  {
   "cell_type": "code",
   "execution_count": null,
   "id": "83cf1b2d",
   "metadata": {},
   "outputs": [],
   "source": [
    "#Write a Python function to check whether a number is divisible by another number. Accept two integers values form the user.\n",
    "# write a  function to check whether a number is divisible by another number.\n",
    "num = int(input(\"Enter the number  divisibie needs to be checked:\"))\n",
    "\n",
    "div = int(input(\"Enter the number  divisibie needs to be checked:\"))\n",
    "\n",
    "if num % div == 0:\n",
    "\n",
    "              print(\"The number is divisible.\")\n",
    "\n",
    "else:\n",
    "\n",
    "              print(\"The number is not divisible.\")\n"
   ]
  }
 ],
 "metadata": {
  "kernelspec": {
   "display_name": "Python 3 (ipykernel)",
   "language": "python",
   "name": "python3"
  },
  "language_info": {
   "codemirror_mode": {
    "name": "ipython",
    "version": 3
   },
   "file_extension": ".py",
   "mimetype": "text/x-python",
   "name": "python",
   "nbconvert_exporter": "python",
   "pygments_lexer": "ipython3",
   "version": "3.9.12"
  }
 },
 "nbformat": 4,
 "nbformat_minor": 5
}
