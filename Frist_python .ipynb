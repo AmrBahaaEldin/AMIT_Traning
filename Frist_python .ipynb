{
 "cells": [
  {
   "cell_type": "markdown",
   "id": "c516f11d",
   "metadata": {},
   "source": [
    "Frist task\n"
   ]
  },
  {
   "cell_type": "code",
   "execution_count": 5,
   "id": "08d6f4c8",
   "metadata": {},
   "outputs": [],
   "source": [
    "# input multiple values from user in one line in Python\n"
   ]
  },
  {
   "cell_type": "code",
   "execution_count": 9,
   "id": "e91fdfbc",
   "metadata": {},
   "outputs": [
    {
     "name": "stdout",
     "output_type": "stream",
     "text": [
      "5\n",
      "7\n"
     ]
    }
   ],
   "source": [
    "x, y = input(),  input()\n"
   ]
  },
  {
   "cell_type": "code",
   "execution_count": 11,
   "id": "31f57a80",
   "metadata": {},
   "outputs": [
    {
     "data": {
      "text/plain": [
       "'5'"
      ]
     },
     "execution_count": 11,
     "metadata": {},
     "output_type": "execute_result"
    }
   ],
   "source": [
    "x\n"
   ]
  },
  {
   "cell_type": "code",
   "execution_count": 12,
   "id": "ddb65c4a",
   "metadata": {},
   "outputs": [
    {
     "data": {
      "text/plain": [
       "'7'"
      ]
     },
     "execution_count": 12,
     "metadata": {},
     "output_type": "execute_result"
    }
   ],
   "source": [
    "y"
   ]
  }
 ],
 "metadata": {
  "kernelspec": {
   "display_name": "Python 3 (ipykernel)",
   "language": "python",
   "name": "python3"
  },
  "language_info": {
   "codemirror_mode": {
    "name": "ipython",
    "version": 3
   },
   "file_extension": ".py",
   "mimetype": "text/x-python",
   "name": "python",
   "nbconvert_exporter": "python",
   "pygments_lexer": "ipython3",
   "version": "3.9.12"
  }
 },
 "nbformat": 4,
 "nbformat_minor": 5
}
